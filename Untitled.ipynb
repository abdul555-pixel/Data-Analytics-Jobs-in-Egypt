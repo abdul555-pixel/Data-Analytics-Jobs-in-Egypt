{
 "cells": [
  {
   "cell_type": "code",
   "execution_count": 1,
   "id": "5f3bd79c-fe1f-4b9b-8cd7-5b30a701341b",
   "metadata": {},
   "outputs": [
    {
     "name": "stdout",
     "output_type": "stream",
     "text": [
      "Requirement already satisfied: selenium in c:\\abdullah\\anaconda\\lib\\site-packages (4.18.1)\n",
      "Requirement already satisfied: urllib3<3,>=1.26 in c:\\abdullah\\anaconda\\lib\\site-packages (from urllib3[socks]<3,>=1.26->selenium) (2.0.7)\n",
      "Requirement already satisfied: trio~=0.17 in c:\\abdullah\\anaconda\\lib\\site-packages (from selenium) (0.24.0)\n",
      "Requirement already satisfied: trio-websocket~=0.9 in c:\\abdullah\\anaconda\\lib\\site-packages (from selenium) (0.11.1)\n",
      "Requirement already satisfied: certifi>=2021.10.8 in c:\\abdullah\\anaconda\\lib\\site-packages (from selenium) (2024.2.2)\n",
      "Requirement already satisfied: typing_extensions>=4.9.0 in c:\\abdullah\\anaconda\\lib\\site-packages (from selenium) (4.9.0)\n",
      "Requirement already satisfied: attrs>=20.1.0 in c:\\abdullah\\anaconda\\lib\\site-packages (from trio~=0.17->selenium) (23.1.0)\n",
      "Requirement already satisfied: sortedcontainers in c:\\abdullah\\anaconda\\lib\\site-packages (from trio~=0.17->selenium) (2.4.0)\n",
      "Requirement already satisfied: idna in c:\\abdullah\\anaconda\\lib\\site-packages (from trio~=0.17->selenium) (3.4)\n",
      "Requirement already satisfied: outcome in c:\\abdullah\\anaconda\\lib\\site-packages (from trio~=0.17->selenium) (1.3.0.post0)\n",
      "Requirement already satisfied: sniffio>=1.3.0 in c:\\abdullah\\anaconda\\lib\\site-packages (from trio~=0.17->selenium) (1.3.0)\n",
      "Requirement already satisfied: cffi>=1.14 in c:\\abdullah\\anaconda\\lib\\site-packages (from trio~=0.17->selenium) (1.16.0)\n",
      "Requirement already satisfied: wsproto>=0.14 in c:\\abdullah\\anaconda\\lib\\site-packages (from trio-websocket~=0.9->selenium) (1.2.0)\n",
      "Requirement already satisfied: pysocks!=1.5.7,<2.0,>=1.5.6 in c:\\abdullah\\anaconda\\lib\\site-packages (from urllib3[socks]<3,>=1.26->selenium) (1.7.1)\n",
      "Requirement already satisfied: pycparser in c:\\abdullah\\anaconda\\lib\\site-packages (from cffi>=1.14->trio~=0.17->selenium) (2.21)\n",
      "Requirement already satisfied: h11<1,>=0.9.0 in c:\\abdullah\\anaconda\\lib\\site-packages (from wsproto>=0.14->trio-websocket~=0.9->selenium) (0.14.0)\n",
      "Note: you may need to restart the kernel to use updated packages.\n"
     ]
    }
   ],
   "source": [
    "pip install selenium"
   ]
  },
  {
   "cell_type": "code",
   "execution_count": 2,
   "id": "cfc81f92-1cd0-4f38-b153-f9f196146c26",
   "metadata": {},
   "outputs": [
    {
     "name": "stdout",
     "output_type": "stream",
     "text": [
      "Requirement already satisfied: seaborn in c:\\abdullah\\anaconda\\lib\\site-packages (0.12.2)\n",
      "Requirement already satisfied: numpy!=1.24.0,>=1.17 in c:\\abdullah\\anaconda\\lib\\site-packages (from seaborn) (1.26.4)\n",
      "Requirement already satisfied: pandas>=0.25 in c:\\abdullah\\anaconda\\lib\\site-packages (from seaborn) (2.1.4)\n",
      "Requirement already satisfied: matplotlib!=3.6.1,>=3.1 in c:\\abdullah\\anaconda\\lib\\site-packages (from seaborn) (3.8.0)\n",
      "Requirement already satisfied: contourpy>=1.0.1 in c:\\abdullah\\anaconda\\lib\\site-packages (from matplotlib!=3.6.1,>=3.1->seaborn) (1.2.0)\n",
      "Requirement already satisfied: cycler>=0.10 in c:\\abdullah\\anaconda\\lib\\site-packages (from matplotlib!=3.6.1,>=3.1->seaborn) (0.11.0)\n",
      "Requirement already satisfied: fonttools>=4.22.0 in c:\\abdullah\\anaconda\\lib\\site-packages (from matplotlib!=3.6.1,>=3.1->seaborn) (4.25.0)\n",
      "Requirement already satisfied: kiwisolver>=1.0.1 in c:\\abdullah\\anaconda\\lib\\site-packages (from matplotlib!=3.6.1,>=3.1->seaborn) (1.4.4)\n",
      "Requirement already satisfied: packaging>=20.0 in c:\\abdullah\\anaconda\\lib\\site-packages (from matplotlib!=3.6.1,>=3.1->seaborn) (23.1)\n",
      "Requirement already satisfied: pillow>=6.2.0 in c:\\abdullah\\anaconda\\lib\\site-packages (from matplotlib!=3.6.1,>=3.1->seaborn) (10.2.0)\n",
      "Requirement already satisfied: pyparsing>=2.3.1 in c:\\abdullah\\anaconda\\lib\\site-packages (from matplotlib!=3.6.1,>=3.1->seaborn) (3.0.9)\n",
      "Requirement already satisfied: python-dateutil>=2.7 in c:\\abdullah\\anaconda\\lib\\site-packages (from matplotlib!=3.6.1,>=3.1->seaborn) (2.8.2)\n",
      "Requirement already satisfied: pytz>=2020.1 in c:\\abdullah\\anaconda\\lib\\site-packages (from pandas>=0.25->seaborn) (2023.3.post1)\n",
      "Requirement already satisfied: tzdata>=2022.1 in c:\\abdullah\\anaconda\\lib\\site-packages (from pandas>=0.25->seaborn) (2023.3)\n",
      "Requirement already satisfied: six>=1.5 in c:\\abdullah\\anaconda\\lib\\site-packages (from python-dateutil>=2.7->matplotlib!=3.6.1,>=3.1->seaborn) (1.16.0)\n",
      "Note: you may need to restart the kernel to use updated packages.\n"
     ]
    }
   ],
   "source": [
    "pip install seaborn"
   ]
  },
  {
   "cell_type": "code",
   "execution_count": 3,
   "id": "90b180fc-9a24-41a2-ac1a-98a5ad2c9f53",
   "metadata": {},
   "outputs": [],
   "source": [
    "import requests\n",
    "from bs4 import BeautifulSoup\n",
    "import csv\n",
    "import pandas as pd\n",
    "import numpy as np\n",
    "import matplotlib.pyplot as plt\n",
    "import seaborn as sns\n",
    "import re\n",
    "import collections"
   ]
  },
  {
   "cell_type": "code",
   "execution_count": 4,
   "id": "82befc28-e2d1-4522-866f-1b7f48cd0089",
   "metadata": {},
   "outputs": [
    {
     "name": "stdout",
     "output_type": "stream",
     "text": [
      "<Response [200]>\n"
     ]
    }
   ],
   "source": [
    "page = requests.get(\"https://wuzzuf.net/search/jobs/?a=navbl&filters%5Bcountry%5D%5B0%5D=Egypt&q=analysis\")\n",
    "print(page)"
   ]
  },
  {
   "cell_type": "code",
   "execution_count": 5,
   "id": "fabe6dd1-5747-4871-9a52-d7ce1bd40c8b",
   "metadata": {},
   "outputs": [],
   "source": [
    "src = page.content"
   ]
  },
  {
   "cell_type": "code",
   "execution_count": 6,
   "id": "09240b16-fdac-4b0d-9b16-28eb51c8c427",
   "metadata": {},
   "outputs": [],
   "source": [
    "soup = BeautifulSoup(src, \"lxml\")"
   ]
  },
  {
   "cell_type": "code",
   "execution_count": 7,
   "id": "bc792e37-a215-47ec-b380-d47f0a73e330",
   "metadata": {},
   "outputs": [
    {
     "data": {
      "text/plain": [
       "15"
      ]
     },
     "execution_count": 7,
     "metadata": {},
     "output_type": "execute_result"
    }
   ],
   "source": [
    "jobs = soup.find_all(\"div\", {\"class\" : \"css-pkv5jc\"})\n",
    "len(jobs)"
   ]
  },
  {
   "cell_type": "code",
   "execution_count": 8,
   "id": "ace2d0c8-a7af-47ab-86d6-1a5a45ce5169",
   "metadata": {},
   "outputs": [
    {
     "data": {
      "text/plain": [
       "'Sr. Software Business Analysis'"
      ]
     },
     "execution_count": 8,
     "metadata": {},
     "output_type": "execute_result"
    }
   ],
   "source": [
    "job_name = jobs[0].find_all(\"h2\", {\"class\" : \"css-m604qf\"})[0].text\n",
    "job_name"
   ]
  },
  {
   "cell_type": "code",
   "execution_count": 9,
   "id": "7dfa6db2-a4cb-44ef-aa66-17415c1dc654",
   "metadata": {},
   "outputs": [
    {
     "data": {
      "text/plain": [
       "'Heliopolis, Cairo, Egypt '"
      ]
     },
     "execution_count": 9,
     "metadata": {},
     "output_type": "execute_result"
    }
   ],
   "source": [
    "campany_location = jobs[3].find_all(\"span\", {\"class\" : \"css-5wys0k\"})[0].text\n",
    "campany_location"
   ]
  },
  {
   "cell_type": "code",
   "execution_count": 10,
   "id": "c70e0a18-dca0-4e40-a31e-1606b519a29b",
   "metadata": {},
   "outputs": [
    {
     "data": {
      "text/plain": [
       "'Full Time'"
      ]
     },
     "execution_count": 10,
     "metadata": {},
     "output_type": "execute_result"
    }
   ],
   "source": [
    "job_type = jobs[14].find_all(\"span\", {\"class\" : \"css-1ve4b75 eoyjyou0\"})[0].text\n",
    "job_type"
   ]
  },
  {
   "cell_type": "code",
   "execution_count": 11,
   "id": "e857d120-7b4b-4baa-825b-a16a00016b57",
   "metadata": {},
   "outputs": [
    {
     "data": {
      "text/plain": [
       "'Experienced'"
      ]
     },
     "execution_count": 11,
     "metadata": {},
     "output_type": "execute_result"
    }
   ],
   "source": [
    "exp_level = jobs[13].find_all(\"div\", {\"class\" : \"css-1lh32fc\"})[0].next_sibling.text.split(\" · \")[0]\n",
    "exp_level"
   ]
  },
  {
   "cell_type": "code",
   "execution_count": 12,
   "id": "3156afd8-7b4a-4b3f-ba3e-f1374652455d",
   "metadata": {},
   "outputs": [
    {
     "data": {
      "text/plain": [
       "'2 - 5 Yrs of Exp'"
      ]
     },
     "execution_count": 12,
     "metadata": {},
     "output_type": "execute_result"
    }
   ],
   "source": [
    "exp_year = jobs[13].find_all(\"div\", {\"class\" : \"css-1lh32fc\"})[0].next_sibling.text.split(\" · \")[1]\n",
    "exp_year"
   ]
  },
  {
   "cell_type": "code",
   "execution_count": 13,
   "id": "20c45d9a-871b-4bbc-ab18-9e0ad4553c3e",
   "metadata": {},
   "outputs": [
    {
     "data": {
      "text/plain": [
       "'Operations/Management,Analyst/Research,Sales/Retail,Analyzing data,business,Communication skills,systems analysis,Data visualization,Data,Business Analysis'"
      ]
     },
     "execution_count": 13,
     "metadata": {},
     "output_type": "execute_result"
    }
   ],
   "source": [
    "\n",
    "skills = jobs[13].find_all(\"div\", {\"class\" : \"css-1lh32fc\"})[0].next_sibling.text.split(\" · \")[2:]\n",
    "\",\".join(skills)"
   ]
  },
  {
   "cell_type": "code",
   "execution_count": 14,
   "id": "cb44c8d8-f1fd-4841-aa04-b71364f12c28",
   "metadata": {},
   "outputs": [
    {
     "data": {
      "text/html": [
       "<div>\n",
       "<style scoped>\n",
       "    .dataframe tbody tr th:only-of-type {\n",
       "        vertical-align: middle;\n",
       "    }\n",
       "\n",
       "    .dataframe tbody tr th {\n",
       "        vertical-align: top;\n",
       "    }\n",
       "\n",
       "    .dataframe thead th {\n",
       "        text-align: right;\n",
       "    }\n",
       "</style>\n",
       "<table border=\"1\" class=\"dataframe\">\n",
       "  <thead>\n",
       "    <tr style=\"text-align: right;\">\n",
       "      <th></th>\n",
       "      <th>Job title</th>\n",
       "      <th>Company name</th>\n",
       "      <th>Location</th>\n",
       "      <th>Job type</th>\n",
       "      <th>Exp level</th>\n",
       "      <th>Exp years</th>\n",
       "      <th>Skills</th>\n",
       "    </tr>\n",
       "  </thead>\n",
       "  <tbody>\n",
       "  </tbody>\n",
       "</table>\n",
       "</div>"
      ],
      "text/plain": [
       "Empty DataFrame\n",
       "Columns: [Job title, Company name, Location, Job type, Exp level, Exp years, Skills]\n",
       "Index: []"
      ]
     },
     "execution_count": 14,
     "metadata": {},
     "output_type": "execute_result"
    }
   ],
   "source": [
    "data = pd.DataFrame(columns = [\"Job title\", \"Company name\", \"Location\", \"Job type\", \"Exp level\", \"Exp years\", \"Skills\"])\n",
    "data"
   ]
  },
  {
   "cell_type": "code",
   "execution_count": 15,
   "id": "19529098-54c4-4cf5-b503-4b042c407270",
   "metadata": {},
   "outputs": [],
   "source": [
    "for job in jobs:\n",
    "    job_name =  job.find_all(\"h2\", {\"class\" : \"css-m604qf\"})[0].text\n",
    "    \n",
    "    company_name = job.find_all(\"a\", {\"class\" : \"css-17s97q8\"})[0].text\n",
    "    \n",
    "    location = job.find_all(\"span\", {\"class\" : \"css-5wys0k\"})[0].text\n",
    "    \n",
    "    job_type =  job.find_all(\"span\", {\"class\" : \"css-1ve4b75 eoyjyou0\"})[0].text\n",
    "    \n",
    "    exp_level = job.find_all(\"div\", {\"class\" : \"css-1lh32fc\"})[0].next_sibling.text.split(\" · \")[0]\n",
    "    \n",
    "    exp_years = job.find_all(\"div\", {\"class\" : \"css-1lh32fc\"})[0].next_sibling.text.split(\" · \")[1]\n",
    "    \n",
    "    skills = \",\".join(job.find_all(\"div\", {\"class\" : \"css-1lh32fc\"})[0].next_sibling.text.split(\" · \")[2:])\n",
    "    \n",
    "    data.loc[len(data.index)] = [job_name, company_name, location, job_type, exp_level, exp_years, skills]"
   ]
  },
  {
   "cell_type": "code",
   "execution_count": 16,
   "id": "5f90f20a-e87a-42a2-87d7-cf6c0145526e",
   "metadata": {},
   "outputs": [
    {
     "data": {
      "text/html": [
       "<div>\n",
       "<style scoped>\n",
       "    .dataframe tbody tr th:only-of-type {\n",
       "        vertical-align: middle;\n",
       "    }\n",
       "\n",
       "    .dataframe tbody tr th {\n",
       "        vertical-align: top;\n",
       "    }\n",
       "\n",
       "    .dataframe thead th {\n",
       "        text-align: right;\n",
       "    }\n",
       "</style>\n",
       "<table border=\"1\" class=\"dataframe\">\n",
       "  <thead>\n",
       "    <tr style=\"text-align: right;\">\n",
       "      <th></th>\n",
       "      <th>Job title</th>\n",
       "      <th>Company name</th>\n",
       "      <th>Location</th>\n",
       "      <th>Job type</th>\n",
       "      <th>Exp level</th>\n",
       "      <th>Exp years</th>\n",
       "      <th>Skills</th>\n",
       "    </tr>\n",
       "  </thead>\n",
       "  <tbody>\n",
       "    <tr>\n",
       "      <th>0</th>\n",
       "      <td>Sr. Software Business Analysis</td>\n",
       "      <td>Safa Soft -</td>\n",
       "      <td>Maadi, Cairo, Egypt</td>\n",
       "      <td>Full Time</td>\n",
       "      <td>Experienced</td>\n",
       "      <td>3 - 6 Yrs of Exp</td>\n",
       "      <td>Analyst/Research,Analysis,Business Analysis,Co...</td>\n",
       "    </tr>\n",
       "    <tr>\n",
       "      <th>1</th>\n",
       "      <td>Financial Planning &amp; Analysis Senior Analyst</td>\n",
       "      <td>Confidential -</td>\n",
       "      <td>Cairo, Egypt</td>\n",
       "      <td>Full Time</td>\n",
       "      <td>Experienced</td>\n",
       "      <td>3 - 5 Yrs of Exp</td>\n",
       "      <td>Accounting/Finance,Banking,Manufacturing/Produ...</td>\n",
       "    </tr>\n",
       "    <tr>\n",
       "      <th>2</th>\n",
       "      <td>Financial Planning And Analysis ( FP &amp; A )</td>\n",
       "      <td>Mafad Contracting Company   -</td>\n",
       "      <td>Alexandria, Egypt</td>\n",
       "      <td>Full Time</td>\n",
       "      <td>Experienced</td>\n",
       "      <td>7 - 10 Yrs of Exp</td>\n",
       "      <td>Accounting/Finance,Operations/Management,Analy...</td>\n",
       "    </tr>\n",
       "    <tr>\n",
       "      <th>3</th>\n",
       "      <td>Financial Planning and Analysis</td>\n",
       "      <td>Cleopatra Hospitals Group -</td>\n",
       "      <td>Heliopolis, Cairo, Egypt</td>\n",
       "      <td>Full Time</td>\n",
       "      <td>Experienced</td>\n",
       "      <td>2 - 4 Yrs of Exp</td>\n",
       "      <td>Accounting/Finance,Financial Data,analytical,F...</td>\n",
       "    </tr>\n",
       "    <tr>\n",
       "      <th>4</th>\n",
       "      <td>Data Analysis/Analytics Instructor (Excel - Po...</td>\n",
       "      <td>EpsilonAI -</td>\n",
       "      <td>Nasr City, Cairo, Egypt</td>\n",
       "      <td>Full Time</td>\n",
       "      <td>Experienced</td>\n",
       "      <td>1+ Yrs of Exp</td>\n",
       "      <td>IT/Software Development,Analyst/Research,Train...</td>\n",
       "    </tr>\n",
       "    <tr>\n",
       "      <th>5</th>\n",
       "      <td>Senior Financial Planning and Analysis Specialist</td>\n",
       "      <td>Ibn Sina Pharma -</td>\n",
       "      <td>Maadi, Cairo, Egypt</td>\n",
       "      <td>Full Time</td>\n",
       "      <td>Experienced</td>\n",
       "      <td>3 - 5 Yrs of Exp</td>\n",
       "      <td>Accounting/Finance,Business Development,Analys...</td>\n",
       "    </tr>\n",
       "    <tr>\n",
       "      <th>6</th>\n",
       "      <td>Scrum Master with Business Analysis Expertise</td>\n",
       "      <td>Bydotpy -</td>\n",
       "      <td>New Cairo, Cairo, Egypt</td>\n",
       "      <td>Full Time</td>\n",
       "      <td>Experienced</td>\n",
       "      <td>3 - 5 Yrs of Exp</td>\n",
       "      <td>Business Development,IT/Software Development,P...</td>\n",
       "    </tr>\n",
       "    <tr>\n",
       "      <th>7</th>\n",
       "      <td>•\\tCorporate Financial Budget Controller / Pla...</td>\n",
       "      <td>شركه طنطا موتورز -</td>\n",
       "      <td>Nasr City, Cairo, Egypt</td>\n",
       "      <td>Full Time</td>\n",
       "      <td>Manager</td>\n",
       "      <td>15 - 20 Yrs of Exp</td>\n",
       "      <td>Accounting/Finance,Accounting,Finance,Manufact...</td>\n",
       "    </tr>\n",
       "    <tr>\n",
       "      <th>8</th>\n",
       "      <td>Financial Planning &amp; Analysis Manager</td>\n",
       "      <td>Al monairy -</td>\n",
       "      <td>10th of Ramadan City, Sharqia, Egypt</td>\n",
       "      <td>Full Time</td>\n",
       "      <td>Manager</td>\n",
       "      <td>10 - 15 Yrs of Exp</td>\n",
       "      <td>Accounting/Finance,Operations/Management,Analy...</td>\n",
       "    </tr>\n",
       "    <tr>\n",
       "      <th>9</th>\n",
       "      <td>Group Financial Planning &amp; Analysis Manager</td>\n",
       "      <td>Vision Cosmetics -</td>\n",
       "      <td>Nasr City, Cairo, Egypt</td>\n",
       "      <td>Full Time</td>\n",
       "      <td>Manager</td>\n",
       "      <td>7 - 15 Yrs of Exp</td>\n",
       "      <td>Accounting/Finance,Business Development,Analys...</td>\n",
       "    </tr>\n",
       "    <tr>\n",
       "      <th>10</th>\n",
       "      <td>QC Specialist - Instrumental Analysis/ Stabili...</td>\n",
       "      <td>Global Napi Pharmaceuticals -</td>\n",
       "      <td>6th of October, Giza, Egypt</td>\n",
       "      <td>Full Time</td>\n",
       "      <td>Experienced</td>\n",
       "      <td>1 - 3 Yrs of Exp</td>\n",
       "      <td>Quality,Analyst/Research,Pharmaceutical,GLP,GM...</td>\n",
       "    </tr>\n",
       "    <tr>\n",
       "      <th>11</th>\n",
       "      <td>Group Planning and Analysis Manager</td>\n",
       "      <td>Infinity Clinic Pharma -</td>\n",
       "      <td>Nasr City, Cairo, Egypt</td>\n",
       "      <td>Full Time</td>\n",
       "      <td>Senior Management</td>\n",
       "      <td>7 - 9 Yrs of Exp</td>\n",
       "      <td>Accounting/Finance,Analysis,Financial Planning...</td>\n",
       "    </tr>\n",
       "    <tr>\n",
       "      <th>12</th>\n",
       "      <td>Senior Credit Analyst</td>\n",
       "      <td>Fawry Microfinance  -</td>\n",
       "      <td>Cairo, Egypt</td>\n",
       "      <td>Full Time</td>\n",
       "      <td>Experienced</td>\n",
       "      <td>2+ Yrs of Exp</td>\n",
       "      <td>Analyst/Research,Credit Risk,credit,Finance,Fi...</td>\n",
       "    </tr>\n",
       "    <tr>\n",
       "      <th>13</th>\n",
       "      <td>Retail Business Analyst Specialist</td>\n",
       "      <td>Healthy &amp; Tasty -</td>\n",
       "      <td>Maadi, Cairo, Egypt</td>\n",
       "      <td>Full Time</td>\n",
       "      <td>Experienced</td>\n",
       "      <td>2 - 5 Yrs of Exp</td>\n",
       "      <td>Operations/Management,Analyst/Research,Sales/R...</td>\n",
       "    </tr>\n",
       "    <tr>\n",
       "      <th>14</th>\n",
       "      <td>Structural Engineer</td>\n",
       "      <td>Confidential -</td>\n",
       "      <td>Nasr City, Cairo, Egypt</td>\n",
       "      <td>Full Time</td>\n",
       "      <td>Experienced</td>\n",
       "      <td>3 - 5 Yrs of Exp</td>\n",
       "      <td>Engineering - Construction/Civil/Architecture,...</td>\n",
       "    </tr>\n",
       "  </tbody>\n",
       "</table>\n",
       "</div>"
      ],
      "text/plain": [
       "                                            Job title  \\\n",
       "0                      Sr. Software Business Analysis   \n",
       "1        Financial Planning & Analysis Senior Analyst   \n",
       "2          Financial Planning And Analysis ( FP & A )   \n",
       "3                     Financial Planning and Analysis   \n",
       "4   Data Analysis/Analytics Instructor (Excel - Po...   \n",
       "5   Senior Financial Planning and Analysis Specialist   \n",
       "6       Scrum Master with Business Analysis Expertise   \n",
       "7   •\\tCorporate Financial Budget Controller / Pla...   \n",
       "8               Financial Planning & Analysis Manager   \n",
       "9         Group Financial Planning & Analysis Manager   \n",
       "10  QC Specialist - Instrumental Analysis/ Stabili...   \n",
       "11                Group Planning and Analysis Manager   \n",
       "12                              Senior Credit Analyst   \n",
       "13                 Retail Business Analyst Specialist   \n",
       "14                                Structural Engineer   \n",
       "\n",
       "                     Company name                               Location  \\\n",
       "0                     Safa Soft -                   Maadi, Cairo, Egypt    \n",
       "1                  Confidential -                          Cairo, Egypt    \n",
       "2   Mafad Contracting Company   -                     Alexandria, Egypt    \n",
       "3     Cleopatra Hospitals Group -              Heliopolis, Cairo, Egypt    \n",
       "4                     EpsilonAI -               Nasr City, Cairo, Egypt    \n",
       "5               Ibn Sina Pharma -                   Maadi, Cairo, Egypt    \n",
       "6                       Bydotpy -               New Cairo, Cairo, Egypt    \n",
       "7              شركه طنطا موتورز -               Nasr City, Cairo, Egypt    \n",
       "8                    Al monairy -  10th of Ramadan City, Sharqia, Egypt    \n",
       "9              Vision Cosmetics -               Nasr City, Cairo, Egypt    \n",
       "10  Global Napi Pharmaceuticals -           6th of October, Giza, Egypt    \n",
       "11       Infinity Clinic Pharma -               Nasr City, Cairo, Egypt    \n",
       "12          Fawry Microfinance  -                          Cairo, Egypt    \n",
       "13              Healthy & Tasty -                   Maadi, Cairo, Egypt    \n",
       "14                 Confidential -               Nasr City, Cairo, Egypt    \n",
       "\n",
       "     Job type          Exp level           Exp years  \\\n",
       "0   Full Time        Experienced    3 - 6 Yrs of Exp   \n",
       "1   Full Time        Experienced    3 - 5 Yrs of Exp   \n",
       "2   Full Time        Experienced   7 - 10 Yrs of Exp   \n",
       "3   Full Time        Experienced    2 - 4 Yrs of Exp   \n",
       "4   Full Time        Experienced       1+ Yrs of Exp   \n",
       "5   Full Time        Experienced    3 - 5 Yrs of Exp   \n",
       "6   Full Time        Experienced    3 - 5 Yrs of Exp   \n",
       "7   Full Time            Manager  15 - 20 Yrs of Exp   \n",
       "8   Full Time            Manager  10 - 15 Yrs of Exp   \n",
       "9   Full Time            Manager   7 - 15 Yrs of Exp   \n",
       "10  Full Time        Experienced    1 - 3 Yrs of Exp   \n",
       "11  Full Time  Senior Management    7 - 9 Yrs of Exp   \n",
       "12  Full Time        Experienced       2+ Yrs of Exp   \n",
       "13  Full Time        Experienced    2 - 5 Yrs of Exp   \n",
       "14  Full Time        Experienced    3 - 5 Yrs of Exp   \n",
       "\n",
       "                                               Skills  \n",
       "0   Analyst/Research,Analysis,Business Analysis,Co...  \n",
       "1   Accounting/Finance,Banking,Manufacturing/Produ...  \n",
       "2   Accounting/Finance,Operations/Management,Analy...  \n",
       "3   Accounting/Finance,Financial Data,analytical,F...  \n",
       "4   IT/Software Development,Analyst/Research,Train...  \n",
       "5   Accounting/Finance,Business Development,Analys...  \n",
       "6   Business Development,IT/Software Development,P...  \n",
       "7   Accounting/Finance,Accounting,Finance,Manufact...  \n",
       "8   Accounting/Finance,Operations/Management,Analy...  \n",
       "9   Accounting/Finance,Business Development,Analys...  \n",
       "10  Quality,Analyst/Research,Pharmaceutical,GLP,GM...  \n",
       "11  Accounting/Finance,Analysis,Financial Planning...  \n",
       "12  Analyst/Research,Credit Risk,credit,Finance,Fi...  \n",
       "13  Operations/Management,Analyst/Research,Sales/R...  \n",
       "14  Engineering - Construction/Civil/Architecture,...  "
      ]
     },
     "execution_count": 16,
     "metadata": {},
     "output_type": "execute_result"
    }
   ],
   "source": [
    "data"
   ]
  },
  {
   "cell_type": "code",
   "execution_count": 17,
   "id": "bdae18af-7ecb-458d-9f33-5e5c03af791d",
   "metadata": {},
   "outputs": [
    {
     "name": "stdout",
     "output_type": "stream",
     "text": [
      "Succeeded Scraping 0 pages, Requests still work\n",
      "Succeeded Scraping 20 pages, Requests still work\n",
      "Succeeded Scraping 40 pages, Requests still work\n",
      "Succeeded Scraping 60 pages, Requests still work\n",
      "Succeeded Scraping 80 pages, Requests still work\n",
      "Succeeded Scraping 100 pages, Requests still work\n"
     ]
    }
   ],
   "source": [
    "for pageIndex in range(108):\n",
    "    # request page base index\n",
    "    page = requests.get(f\"https://wuzzuf.net/search/jobs/?a=navbl&filters%5Bcountry%5D%5B0%5D=Egypt&q=analysis&start={pageIndex}\")\n",
    "    \n",
    "    # get page content\n",
    "    src = page.content\n",
    "    \n",
    "    # parse content of page\n",
    "    soup = BeautifulSoup(src, \"lxml\")\n",
    "    \n",
    "    # get all jobs in page\n",
    "    jobs = soup.find_all(\"div\", {\"class\" : \"css-pkv5jc\"})\n",
    "    \n",
    "    # loop of each page to extracte data\n",
    "    for job in jobs:\n",
    "        job_name =  job.find_all(\"h2\", {\"class\" : \"css-m604qf\"})[0].text\n",
    "\n",
    "        company_name = job.find_all(\"a\", {\"class\" : \"css-17s97q8\"})[0].text\n",
    "\n",
    "        location = job.find_all(\"span\", {\"class\" : \"css-5wys0k\"})[0].text\n",
    "\n",
    "        job_type =  job.find_all(\"span\", {\"class\" : \"css-1ve4b75 eoyjyou0\"})[0].text\n",
    "\n",
    "        exp_level = job.find_all(\"div\", {\"class\" : \"css-1lh32fc\"})[0].next_sibling.text.split(\" · \")[0]\n",
    "\n",
    "        exp_years = job.find_all(\"div\", {\"class\" : \"css-1lh32fc\"})[0].next_sibling.text.split(\" · \")[1]\n",
    "\n",
    "        skills = \",\".join(job.find_all(\"div\", {\"class\" : \"css-1lh32fc\"})[0].next_sibling.text.split(\" · \")[2:])\n",
    "        \n",
    "        # Add each iteration of inner loop to data frame as row\n",
    "        data.loc[len(data.index)] = [job_name, company_name, location, job_type, exp_level, exp_years, skills]\n",
    "        \n",
    "    # Add condition to check requests still work or not\n",
    "    if pageIndex % 20 == 0:\n",
    "        print(f\"Succeeded Scraping {pageIndex} pages, Requests still work\")"
   ]
  },
  {
   "cell_type": "code",
   "execution_count": 18,
   "id": "9ce156f8-653f-4dd6-8339-364d6903f81b",
   "metadata": {},
   "outputs": [
    {
     "data": {
      "text/html": [
       "<div>\n",
       "<style scoped>\n",
       "    .dataframe tbody tr th:only-of-type {\n",
       "        vertical-align: middle;\n",
       "    }\n",
       "\n",
       "    .dataframe tbody tr th {\n",
       "        vertical-align: top;\n",
       "    }\n",
       "\n",
       "    .dataframe thead th {\n",
       "        text-align: right;\n",
       "    }\n",
       "</style>\n",
       "<table border=\"1\" class=\"dataframe\">\n",
       "  <thead>\n",
       "    <tr style=\"text-align: right;\">\n",
       "      <th></th>\n",
       "      <th>Job title</th>\n",
       "      <th>Company name</th>\n",
       "      <th>Location</th>\n",
       "      <th>Job type</th>\n",
       "      <th>Exp level</th>\n",
       "      <th>Exp years</th>\n",
       "      <th>Skills</th>\n",
       "    </tr>\n",
       "  </thead>\n",
       "  <tbody>\n",
       "    <tr>\n",
       "      <th>0</th>\n",
       "      <td>Sr. Software Business Analysis</td>\n",
       "      <td>Safa Soft -</td>\n",
       "      <td>Maadi, Cairo, Egypt</td>\n",
       "      <td>Full Time</td>\n",
       "      <td>Experienced</td>\n",
       "      <td>3 - 6 Yrs of Exp</td>\n",
       "      <td>Analyst/Research,Analysis,Business Analysis,Co...</td>\n",
       "    </tr>\n",
       "    <tr>\n",
       "      <th>1</th>\n",
       "      <td>Financial Planning &amp; Analysis Senior Analyst</td>\n",
       "      <td>Confidential -</td>\n",
       "      <td>Cairo, Egypt</td>\n",
       "      <td>Full Time</td>\n",
       "      <td>Experienced</td>\n",
       "      <td>3 - 5 Yrs of Exp</td>\n",
       "      <td>Accounting/Finance,Banking,Manufacturing/Produ...</td>\n",
       "    </tr>\n",
       "    <tr>\n",
       "      <th>2</th>\n",
       "      <td>Financial Planning And Analysis ( FP &amp; A )</td>\n",
       "      <td>Mafad Contracting Company   -</td>\n",
       "      <td>Alexandria, Egypt</td>\n",
       "      <td>Full Time</td>\n",
       "      <td>Experienced</td>\n",
       "      <td>7 - 10 Yrs of Exp</td>\n",
       "      <td>Accounting/Finance,Operations/Management,Analy...</td>\n",
       "    </tr>\n",
       "    <tr>\n",
       "      <th>3</th>\n",
       "      <td>Financial Planning and Analysis</td>\n",
       "      <td>Cleopatra Hospitals Group -</td>\n",
       "      <td>Heliopolis, Cairo, Egypt</td>\n",
       "      <td>Full Time</td>\n",
       "      <td>Experienced</td>\n",
       "      <td>2 - 4 Yrs of Exp</td>\n",
       "      <td>Accounting/Finance,Financial Data,analytical,F...</td>\n",
       "    </tr>\n",
       "    <tr>\n",
       "      <th>4</th>\n",
       "      <td>Data Analysis/Analytics Instructor (Excel - Po...</td>\n",
       "      <td>EpsilonAI -</td>\n",
       "      <td>Nasr City, Cairo, Egypt</td>\n",
       "      <td>Full Time</td>\n",
       "      <td>Experienced</td>\n",
       "      <td>1+ Yrs of Exp</td>\n",
       "      <td>IT/Software Development,Analyst/Research,Train...</td>\n",
       "    </tr>\n",
       "    <tr>\n",
       "      <th>...</th>\n",
       "      <td>...</td>\n",
       "      <td>...</td>\n",
       "      <td>...</td>\n",
       "      <td>...</td>\n",
       "      <td>...</td>\n",
       "      <td>...</td>\n",
       "      <td>...</td>\n",
       "    </tr>\n",
       "    <tr>\n",
       "      <th>1630</th>\n",
       "      <td>Mechanical Design Engineer Low and Medium volt...</td>\n",
       "      <td>ARC Technologies -</td>\n",
       "      <td>Abu Rawash, Giza, Egypt</td>\n",
       "      <td>Full Time</td>\n",
       "      <td>Entry Level</td>\n",
       "      <td>3 - 6 Yrs of Exp</td>\n",
       "      <td>Engineering - Mechanical/Electrical,Microsoft ...</td>\n",
       "    </tr>\n",
       "    <tr>\n",
       "      <th>1631</th>\n",
       "      <td>Graphic Designer and video editor</td>\n",
       "      <td>Some Skin Care  -</td>\n",
       "      <td>Cairo, Egypt</td>\n",
       "      <td>Full Time</td>\n",
       "      <td>Experienced</td>\n",
       "      <td>1 - 3 Yrs of Exp</td>\n",
       "      <td>Creative/Design/Art,Adobe illustrator,Design,G...</td>\n",
       "    </tr>\n",
       "    <tr>\n",
       "      <th>1632</th>\n",
       "      <td>QC Finished Product Analyst</td>\n",
       "      <td>Rameda -</td>\n",
       "      <td>6th of October, Giza, Egypt</td>\n",
       "      <td>Full Time</td>\n",
       "      <td>Experienced</td>\n",
       "      <td>1 - 3 Yrs of Exp</td>\n",
       "      <td>Manufacturing/Production,Quality,Pharmaceutica...</td>\n",
       "    </tr>\n",
       "    <tr>\n",
       "      <th>1633</th>\n",
       "      <td>Planning Engineer</td>\n",
       "      <td>Infracon -</td>\n",
       "      <td>Heliopolis, Cairo, Egypt</td>\n",
       "      <td>Full Time</td>\n",
       "      <td>Experienced</td>\n",
       "      <td>5 - 10 Yrs of Exp</td>\n",
       "      <td>Engineering - Construction/Civil/Architecture,...</td>\n",
       "    </tr>\n",
       "    <tr>\n",
       "      <th>1634</th>\n",
       "      <td>Technical Office Manager</td>\n",
       "      <td>Trustcom -</td>\n",
       "      <td>New Cairo, Cairo, Egypt</td>\n",
       "      <td>Full Time</td>\n",
       "      <td>Manager</td>\n",
       "      <td>10 - 15 Yrs of Exp</td>\n",
       "      <td>Engineering - Construction/Civil/Architecture,...</td>\n",
       "    </tr>\n",
       "  </tbody>\n",
       "</table>\n",
       "<p>1635 rows × 7 columns</p>\n",
       "</div>"
      ],
      "text/plain": [
       "                                              Job title  \\\n",
       "0                        Sr. Software Business Analysis   \n",
       "1          Financial Planning & Analysis Senior Analyst   \n",
       "2            Financial Planning And Analysis ( FP & A )   \n",
       "3                       Financial Planning and Analysis   \n",
       "4     Data Analysis/Analytics Instructor (Excel - Po...   \n",
       "...                                                 ...   \n",
       "1630  Mechanical Design Engineer Low and Medium volt...   \n",
       "1631                  Graphic Designer and video editor   \n",
       "1632                        QC Finished Product Analyst   \n",
       "1633                                  Planning Engineer   \n",
       "1634                           Technical Office Manager   \n",
       "\n",
       "                       Company name                      Location   Job type  \\\n",
       "0                       Safa Soft -          Maadi, Cairo, Egypt   Full Time   \n",
       "1                    Confidential -                 Cairo, Egypt   Full Time   \n",
       "2     Mafad Contracting Company   -            Alexandria, Egypt   Full Time   \n",
       "3       Cleopatra Hospitals Group -     Heliopolis, Cairo, Egypt   Full Time   \n",
       "4                       EpsilonAI -      Nasr City, Cairo, Egypt   Full Time   \n",
       "...                             ...                           ...        ...   \n",
       "1630             ARC Technologies -      Abu Rawash, Giza, Egypt   Full Time   \n",
       "1631              Some Skin Care  -                 Cairo, Egypt   Full Time   \n",
       "1632                       Rameda -  6th of October, Giza, Egypt   Full Time   \n",
       "1633                     Infracon -     Heliopolis, Cairo, Egypt   Full Time   \n",
       "1634                     Trustcom -      New Cairo, Cairo, Egypt   Full Time   \n",
       "\n",
       "        Exp level           Exp years  \\\n",
       "0     Experienced    3 - 6 Yrs of Exp   \n",
       "1     Experienced    3 - 5 Yrs of Exp   \n",
       "2     Experienced   7 - 10 Yrs of Exp   \n",
       "3     Experienced    2 - 4 Yrs of Exp   \n",
       "4     Experienced       1+ Yrs of Exp   \n",
       "...           ...                 ...   \n",
       "1630  Entry Level    3 - 6 Yrs of Exp   \n",
       "1631  Experienced    1 - 3 Yrs of Exp   \n",
       "1632  Experienced    1 - 3 Yrs of Exp   \n",
       "1633  Experienced   5 - 10 Yrs of Exp   \n",
       "1634      Manager  10 - 15 Yrs of Exp   \n",
       "\n",
       "                                                 Skills  \n",
       "0     Analyst/Research,Analysis,Business Analysis,Co...  \n",
       "1     Accounting/Finance,Banking,Manufacturing/Produ...  \n",
       "2     Accounting/Finance,Operations/Management,Analy...  \n",
       "3     Accounting/Finance,Financial Data,analytical,F...  \n",
       "4     IT/Software Development,Analyst/Research,Train...  \n",
       "...                                                 ...  \n",
       "1630  Engineering - Mechanical/Electrical,Microsoft ...  \n",
       "1631  Creative/Design/Art,Adobe illustrator,Design,G...  \n",
       "1632  Manufacturing/Production,Quality,Pharmaceutica...  \n",
       "1633  Engineering - Construction/Civil/Architecture,...  \n",
       "1634  Engineering - Construction/Civil/Architecture,...  \n",
       "\n",
       "[1635 rows x 7 columns]"
      ]
     },
     "execution_count": 18,
     "metadata": {},
     "output_type": "execute_result"
    }
   ],
   "source": [
    "data"
   ]
  },
  {
   "cell_type": "code",
   "execution_count": 19,
   "id": "21149026-6f03-47d6-a682-562c2def83cd",
   "metadata": {},
   "outputs": [
    {
     "data": {
      "text/html": [
       "<div>\n",
       "<style scoped>\n",
       "    .dataframe tbody tr th:only-of-type {\n",
       "        vertical-align: middle;\n",
       "    }\n",
       "\n",
       "    .dataframe tbody tr th {\n",
       "        vertical-align: top;\n",
       "    }\n",
       "\n",
       "    .dataframe thead th {\n",
       "        text-align: right;\n",
       "    }\n",
       "</style>\n",
       "<table border=\"1\" class=\"dataframe\">\n",
       "  <thead>\n",
       "    <tr style=\"text-align: right;\">\n",
       "      <th></th>\n",
       "      <th>Job title</th>\n",
       "      <th>Company name</th>\n",
       "      <th>Location</th>\n",
       "      <th>Job type</th>\n",
       "      <th>Exp level</th>\n",
       "      <th>Exp years</th>\n",
       "      <th>Skills</th>\n",
       "    </tr>\n",
       "  </thead>\n",
       "  <tbody>\n",
       "    <tr>\n",
       "      <th>0</th>\n",
       "      <td>Sr. Software Business Analysis</td>\n",
       "      <td>Safa Soft -</td>\n",
       "      <td>Maadi, Cairo, Egypt</td>\n",
       "      <td>Full Time</td>\n",
       "      <td>Experienced</td>\n",
       "      <td>3 - 6 Yrs of Exp</td>\n",
       "      <td>Analyst/Research,Analysis,Business Analysis,Co...</td>\n",
       "    </tr>\n",
       "    <tr>\n",
       "      <th>1</th>\n",
       "      <td>Financial Planning &amp; Analysis Senior Analyst</td>\n",
       "      <td>Confidential -</td>\n",
       "      <td>Cairo, Egypt</td>\n",
       "      <td>Full Time</td>\n",
       "      <td>Experienced</td>\n",
       "      <td>3 - 5 Yrs of Exp</td>\n",
       "      <td>Accounting/Finance,Banking,Manufacturing/Produ...</td>\n",
       "    </tr>\n",
       "    <tr>\n",
       "      <th>2</th>\n",
       "      <td>Financial Planning And Analysis ( FP &amp; A )</td>\n",
       "      <td>Mafad Contracting Company   -</td>\n",
       "      <td>Alexandria, Egypt</td>\n",
       "      <td>Full Time</td>\n",
       "      <td>Experienced</td>\n",
       "      <td>7 - 10 Yrs of Exp</td>\n",
       "      <td>Accounting/Finance,Operations/Management,Analy...</td>\n",
       "    </tr>\n",
       "    <tr>\n",
       "      <th>3</th>\n",
       "      <td>Financial Planning and Analysis</td>\n",
       "      <td>Cleopatra Hospitals Group -</td>\n",
       "      <td>Heliopolis, Cairo, Egypt</td>\n",
       "      <td>Full Time</td>\n",
       "      <td>Experienced</td>\n",
       "      <td>2 - 4 Yrs of Exp</td>\n",
       "      <td>Accounting/Finance,Financial Data,analytical,F...</td>\n",
       "    </tr>\n",
       "    <tr>\n",
       "      <th>4</th>\n",
       "      <td>Data Analysis/Analytics Instructor (Excel - Po...</td>\n",
       "      <td>EpsilonAI -</td>\n",
       "      <td>Nasr City, Cairo, Egypt</td>\n",
       "      <td>Full Time</td>\n",
       "      <td>Experienced</td>\n",
       "      <td>1+ Yrs of Exp</td>\n",
       "      <td>IT/Software Development,Analyst/Research,Train...</td>\n",
       "    </tr>\n",
       "  </tbody>\n",
       "</table>\n",
       "</div>"
      ],
      "text/plain": [
       "                                           Job title  \\\n",
       "0                     Sr. Software Business Analysis   \n",
       "1       Financial Planning & Analysis Senior Analyst   \n",
       "2         Financial Planning And Analysis ( FP & A )   \n",
       "3                    Financial Planning and Analysis   \n",
       "4  Data Analysis/Analytics Instructor (Excel - Po...   \n",
       "\n",
       "                    Company name                   Location   Job type  \\\n",
       "0                    Safa Soft -       Maadi, Cairo, Egypt   Full Time   \n",
       "1                 Confidential -              Cairo, Egypt   Full Time   \n",
       "2  Mafad Contracting Company   -         Alexandria, Egypt   Full Time   \n",
       "3    Cleopatra Hospitals Group -  Heliopolis, Cairo, Egypt   Full Time   \n",
       "4                    EpsilonAI -   Nasr City, Cairo, Egypt   Full Time   \n",
       "\n",
       "     Exp level          Exp years  \\\n",
       "0  Experienced   3 - 6 Yrs of Exp   \n",
       "1  Experienced   3 - 5 Yrs of Exp   \n",
       "2  Experienced  7 - 10 Yrs of Exp   \n",
       "3  Experienced   2 - 4 Yrs of Exp   \n",
       "4  Experienced      1+ Yrs of Exp   \n",
       "\n",
       "                                              Skills  \n",
       "0  Analyst/Research,Analysis,Business Analysis,Co...  \n",
       "1  Accounting/Finance,Banking,Manufacturing/Produ...  \n",
       "2  Accounting/Finance,Operations/Management,Analy...  \n",
       "3  Accounting/Finance,Financial Data,analytical,F...  \n",
       "4  IT/Software Development,Analyst/Research,Train...  "
      ]
     },
     "execution_count": 19,
     "metadata": {},
     "output_type": "execute_result"
    }
   ],
   "source": [
    "data.head(5)"
   ]
  },
  {
   "cell_type": "code",
   "execution_count": 20,
   "id": "380c1b0b-7dfd-49ae-88eb-645b8b247821",
   "metadata": {},
   "outputs": [
    {
     "name": "stdout",
     "output_type": "stream",
     "text": [
      "The number of rows in the dataset are 1635\n"
     ]
    }
   ],
   "source": [
    "print(\"The number of rows in the dataset are \" + str(data.shape[0]))"
   ]
  },
  {
   "cell_type": "code",
   "execution_count": 21,
   "id": "aec045a7-c006-4a17-973a-91fb54130689",
   "metadata": {},
   "outputs": [
    {
     "name": "stdout",
     "output_type": "stream",
     "text": [
      "The number of columns in the dataset are 7\n"
     ]
    }
   ],
   "source": [
    "print(\"The number of columns in the dataset are \" + str(data.shape[1]))"
   ]
  },
  {
   "cell_type": "code",
   "execution_count": 22,
   "id": "6c593bbb-7cc8-4d5c-8524-548662f5d7a6",
   "metadata": {},
   "outputs": [
    {
     "name": "stdout",
     "output_type": "stream",
     "text": [
      "<class 'pandas.core.frame.DataFrame'>\n",
      "Index: 1635 entries, 0 to 1634\n",
      "Data columns (total 7 columns):\n",
      " #   Column        Non-Null Count  Dtype \n",
      "---  ------        --------------  ----- \n",
      " 0   Job title     1635 non-null   object\n",
      " 1   Company name  1635 non-null   object\n",
      " 2   Location      1635 non-null   object\n",
      " 3   Job type      1635 non-null   object\n",
      " 4   Exp level     1635 non-null   object\n",
      " 5   Exp years     1635 non-null   object\n",
      " 6   Skills        1635 non-null   object\n",
      "dtypes: object(7)\n",
      "memory usage: 102.2+ KB\n"
     ]
    }
   ],
   "source": [
    "data.info()"
   ]
  },
  {
   "cell_type": "code",
   "execution_count": 23,
   "id": "d3218c5d-0ae6-4950-aeca-dc71a308231d",
   "metadata": {},
   "outputs": [
    {
     "name": "stdout",
     "output_type": "stream",
     "text": [
      "Number of Uniqe Values  1635\n"
     ]
    }
   ],
   "source": [
    "unique_con = len(data)\n",
    "print( \"Number of Uniqe Values \", unique_con)"
   ]
  },
  {
   "cell_type": "code",
   "execution_count": 24,
   "id": "f9fb9fe6-e0d7-4b6f-abb8-a98085fdbb1f",
   "metadata": {},
   "outputs": [
    {
     "name": "stdout",
     "output_type": "stream",
     "text": [
      "Number of Duplicated Terms  17\n"
     ]
    }
   ],
   "source": [
    "print(\"Number of Duplicated Terms \", data.duplicated().sum())"
   ]
  },
  {
   "cell_type": "code",
   "execution_count": 25,
   "id": "b1bb23e8-df7e-445c-8944-5fd1ad5c7412",
   "metadata": {},
   "outputs": [],
   "source": [
    "data.drop_duplicates(inplace = True)"
   ]
  },
  {
   "cell_type": "code",
   "execution_count": 26,
   "id": "a6360e2f-fa89-4136-9764-196132a579a6",
   "metadata": {},
   "outputs": [
    {
     "name": "stdout",
     "output_type": "stream",
     "text": [
      "0\n"
     ]
    }
   ],
   "source": [
    "print(data.duplicated().sum())"
   ]
  },
  {
   "cell_type": "code",
   "execution_count": 27,
   "id": "2bc939fe-79be-482e-bd47-dcfe7c5f3c2c",
   "metadata": {},
   "outputs": [
    {
     "data": {
      "text/plain": [
       "(1618, 7)"
      ]
     },
     "execution_count": 27,
     "metadata": {},
     "output_type": "execute_result"
    }
   ],
   "source": [
    "data.shape"
   ]
  },
  {
   "cell_type": "code",
   "execution_count": 28,
   "id": "1ae91067-a246-4c14-9c2e-2fb8148849a7",
   "metadata": {},
   "outputs": [
    {
     "name": "stdout",
     "output_type": "stream",
     "text": [
      "Number of unique values in Job type  4\n"
     ]
    }
   ],
   "source": [
    "unique_values, count = np.unique(data['Job type'], return_counts=True)\n",
    "\n",
    "print(\"Number of unique values in Job type \", len(unique_values))"
   ]
  },
  {
   "cell_type": "code",
   "execution_count": 29,
   "id": "cd19309b-cdf9-4b9a-aa46-5adb3dc799bb",
   "metadata": {},
   "outputs": [
    {
     "name": "stdout",
     "output_type": "stream",
     "text": [
      "Job title\n",
      "Job title\n",
      "False    1618\n",
      "Name: count, dtype: int64\n",
      "\n",
      "Company name\n",
      "Company name\n",
      "False    1618\n",
      "Name: count, dtype: int64\n",
      "\n",
      "Location\n",
      "Location\n",
      "False    1618\n",
      "Name: count, dtype: int64\n",
      "\n",
      "Job type\n",
      "Job type\n",
      "False    1618\n",
      "Name: count, dtype: int64\n",
      "\n",
      "Exp level\n",
      "Exp level\n",
      "False    1618\n",
      "Name: count, dtype: int64\n",
      "\n",
      "Exp years\n",
      "Exp years\n",
      "False    1618\n",
      "Name: count, dtype: int64\n",
      "\n",
      "Skills\n",
      "Skills\n",
      "False    1618\n",
      "Name: count, dtype: int64\n",
      "\n"
     ]
    }
   ],
   "source": [
    "missing_values = data.isnull()\n",
    "for column in missing_values.columns.values.tolist():\n",
    "    print(column)\n",
    "    print(missing_values[column].value_counts())\n",
    "    print(\"\")"
   ]
  },
  {
   "cell_type": "code",
   "execution_count": 30,
   "id": "b49439ad-0564-48e3-b521-44bba543eefe",
   "metadata": {},
   "outputs": [
    {
     "name": "stdout",
     "output_type": "stream",
     "text": [
      "males_only,Engineering - Construction/Civil/Architecture,Engineering - Mechanical/Electrical,Engineering - Other,Civil,Civil Engineering,Construction,Cost Control,Cost Management,Project Management,Cost\n"
     ]
    }
   ],
   "source": [
    "least_freq = data['Skills'].value_counts().idxmin()\n",
    "print(least_freq)"
   ]
  },
  {
   "cell_type": "code",
   "execution_count": 31,
   "id": "79e8958f-4fb6-4b54-b839-d4c2fd1f88dd",
   "metadata": {},
   "outputs": [
    {
     "data": {
      "text/plain": [
       "<bound method NDFrame.describe of                                               Job title  \\\n",
       "0                        Sr. Software Business Analysis   \n",
       "1          Financial Planning & Analysis Senior Analyst   \n",
       "2            Financial Planning And Analysis ( FP & A )   \n",
       "3                       Financial Planning and Analysis   \n",
       "4     Data Analysis/Analytics Instructor (Excel - Po...   \n",
       "...                                                 ...   \n",
       "1630  Mechanical Design Engineer Low and Medium volt...   \n",
       "1631                  Graphic Designer and video editor   \n",
       "1632                        QC Finished Product Analyst   \n",
       "1633                                  Planning Engineer   \n",
       "1634                           Technical Office Manager   \n",
       "\n",
       "                       Company name                      Location   Job type  \\\n",
       "0                       Safa Soft -          Maadi, Cairo, Egypt   Full Time   \n",
       "1                    Confidential -                 Cairo, Egypt   Full Time   \n",
       "2     Mafad Contracting Company   -            Alexandria, Egypt   Full Time   \n",
       "3       Cleopatra Hospitals Group -     Heliopolis, Cairo, Egypt   Full Time   \n",
       "4                       EpsilonAI -      Nasr City, Cairo, Egypt   Full Time   \n",
       "...                             ...                           ...        ...   \n",
       "1630             ARC Technologies -      Abu Rawash, Giza, Egypt   Full Time   \n",
       "1631              Some Skin Care  -                 Cairo, Egypt   Full Time   \n",
       "1632                       Rameda -  6th of October, Giza, Egypt   Full Time   \n",
       "1633                     Infracon -     Heliopolis, Cairo, Egypt   Full Time   \n",
       "1634                     Trustcom -      New Cairo, Cairo, Egypt   Full Time   \n",
       "\n",
       "        Exp level           Exp years  \\\n",
       "0     Experienced    3 - 6 Yrs of Exp   \n",
       "1     Experienced    3 - 5 Yrs of Exp   \n",
       "2     Experienced   7 - 10 Yrs of Exp   \n",
       "3     Experienced    2 - 4 Yrs of Exp   \n",
       "4     Experienced       1+ Yrs of Exp   \n",
       "...           ...                 ...   \n",
       "1630  Entry Level    3 - 6 Yrs of Exp   \n",
       "1631  Experienced    1 - 3 Yrs of Exp   \n",
       "1632  Experienced    1 - 3 Yrs of Exp   \n",
       "1633  Experienced   5 - 10 Yrs of Exp   \n",
       "1634      Manager  10 - 15 Yrs of Exp   \n",
       "\n",
       "                                                 Skills  \n",
       "0     Analyst/Research,Analysis,Business Analysis,Co...  \n",
       "1     Accounting/Finance,Banking,Manufacturing/Produ...  \n",
       "2     Accounting/Finance,Operations/Management,Analy...  \n",
       "3     Accounting/Finance,Financial Data,analytical,F...  \n",
       "4     IT/Software Development,Analyst/Research,Train...  \n",
       "...                                                 ...  \n",
       "1630  Engineering - Mechanical/Electrical,Microsoft ...  \n",
       "1631  Creative/Design/Art,Adobe illustrator,Design,G...  \n",
       "1632  Manufacturing/Production,Quality,Pharmaceutica...  \n",
       "1633  Engineering - Construction/Civil/Architecture,...  \n",
       "1634  Engineering - Construction/Civil/Architecture,...  \n",
       "\n",
       "[1618 rows x 7 columns]>"
      ]
     },
     "execution_count": 31,
     "metadata": {},
     "output_type": "execute_result"
    }
   ],
   "source": [
    "data.describe"
   ]
  },
  {
   "cell_type": "code",
   "execution_count": 32,
   "id": "be15b263-6fac-40de-b047-2a97dde9f62e",
   "metadata": {},
   "outputs": [
    {
     "data": {
      "text/plain": [
       "array(['Sr. Software Business Analysis',\n",
       "       'Financial Planning & Analysis Senior Analyst',\n",
       "       'Financial Planning And Analysis ( FP & A )',\n",
       "       'Financial Planning and Analysis',\n",
       "       'Data Analysis/Analytics Instructor (Excel - Power BI)',\n",
       "       'Senior Financial Planning and Analysis Specialist',\n",
       "       'Scrum Master with Business Analysis Expertise',\n",
       "       '•\\tCorporate Financial Budget Controller / Planning & Analysis Manager',\n",
       "       'Financial Planning & Analysis Manager',\n",
       "       'Group Financial Planning & Analysis Manager',\n",
       "       'QC Specialist - Instrumental Analysis/ Stability Analysis / Document Control',\n",
       "       'Group Planning and Analysis Manager', 'Senior Credit Analyst',\n",
       "       'Retail Business Analyst Specialist', 'Structural Engineer',\n",
       "       'Treasury and Banks Accountant', 'Financial Analyst',\n",
       "       'Marketing & Communication Manager', 'Market Research Analyst',\n",
       "       'Pre Sales Engineer', 'CFO', 'Operations Specialist',\n",
       "       'Software Business Analyst', 'Business Analyst',\n",
       "       'Statistical Researcher', 'Audit Manager',\n",
       "       'Senior Receivable Accountant', 'Raw Material Specialist',\n",
       "       'Financial Planning & Analysis Analyst', 'Senior Accountant',\n",
       "       'Egypt FINANCE MANAGER (PROJECTS)', 'Cost Accountant',\n",
       "       'Quality Control Section Head',\n",
       "       'Finance Manager (Travel & Tourism)',\n",
       "       'Repair Order Specialist (Data Analyst)', 'Senior Data Analyst',\n",
       "       'Compensation & Benefits Senior Specialist',\n",
       "       'Senior Geotechnical Engineer', 'Accounts Receivable Accountant',\n",
       "       'AP & Tax Accountant', 'Finance Officer', 'Accounting Officer',\n",
       "       'Financial Reporting Manager', 'Senior Assistant Brand Manager',\n",
       "       'Data Scientist', 'Senior Internal Auditor', 'General Accountant',\n",
       "       'Internal Auditor', 'Tax Manager', 'Senior Tax Accountant'],\n",
       "      dtype=object)"
      ]
     },
     "execution_count": 32,
     "metadata": {},
     "output_type": "execute_result"
    }
   ],
   "source": [
    "data['Job title'].unique()[:50]"
   ]
  },
  {
   "cell_type": "code",
   "execution_count": 33,
   "id": "db758122-d293-4f19-b2e8-e8b93927a389",
   "metadata": {},
   "outputs": [
    {
     "data": {
      "text/plain": [
       "Job title\n",
       "Accountant                      54\n",
       "Senior Accountant               27\n",
       "General Accountant              25\n",
       "Accounting Manager              25\n",
       "Junior Accountant               17\n",
       "Financial Analyst               15\n",
       "Business Analyst                14\n",
       "Cost Accountant                 12\n",
       "Finance Manager                 12\n",
       "Treasury Manager                10\n",
       "Treasury Accountant             10\n",
       "AP Accountant                    9\n",
       "Chief Accountant                 9\n",
       "Financial Manager                9\n",
       "CFO                              8\n",
       "Senior Tax Accountant            8\n",
       "Data Analyst                     8\n",
       "Quality Assurance Specialist     6\n",
       "Electrical Engineer              6\n",
       "Account Manager                  6\n",
       "Name: count, dtype: int64"
      ]
     },
     "execution_count": 33,
     "metadata": {},
     "output_type": "execute_result"
    }
   ],
   "source": [
    "data['Job title'].value_counts()[:20]"
   ]
  },
  {
   "cell_type": "code",
   "execution_count": 34,
   "id": "cf253133-abb3-4955-aede-bbd8865d3023",
   "metadata": {},
   "outputs": [],
   "source": [
    "def remove_Brackets(title):\n",
    "    \n",
    "    return title.split('(')[0].strip()\n",
    "     \n",
    "\n",
    "def remove_VerticalLine(title):\n",
    "    return title.split(\"|\")[0]\n",
    "\n",
    "\n",
    "def remove_hyphen(title):\n",
    "    return title.split(\" - \")[0]\n",
    "\n",
    "\n",
    "def remove_and(title):\n",
    "    return title.split(\" & \")[0]\n",
    "    \n",
    " \n",
    "data[\"Job title\"] = data[\"Job title\"].apply(remove_Brackets)\n",
    "\n",
    " \n",
    "data[\"Job title\"] = data[\"Job title\"].apply(remove_VerticalLine)\n",
    "\n",
    "\n",
    "data[\"Job title\"] = data[\"Job title\"].apply(remove_hyphen)\n",
    "\n",
    "\n",
    "data[\"Job title\"] = data[\"Job title\"].apply(remove_and)"
   ]
  },
  {
   "cell_type": "code",
   "execution_count": 35,
   "id": "0da9d419-0d03-4812-a27f-8206766d58e9",
   "metadata": {},
   "outputs": [
    {
     "data": {
      "text/plain": [
       "array(['Sr. Software Business Analysis', 'Financial Planning',\n",
       "       'Financial Planning And Analysis',\n",
       "       'Financial Planning and Analysis',\n",
       "       'Data Analysis/Analytics Instructor',\n",
       "       'Senior Financial Planning and Analysis Specialist',\n",
       "       'Scrum Master with Business Analysis Expertise',\n",
       "       '•\\tCorporate Financial Budget Controller / Planning',\n",
       "       'Group Financial Planning', 'QC Specialist',\n",
       "       'Group Planning and Analysis Manager', 'Senior Credit Analyst',\n",
       "       'Retail Business Analyst Specialist', 'Structural Engineer',\n",
       "       'Treasury and Banks Accountant', 'Financial Analyst', 'Marketing',\n",
       "       'Market Research Analyst', 'Pre Sales Engineer', 'CFO',\n",
       "       'Operations Specialist', 'Software Business Analyst',\n",
       "       'Business Analyst', 'Statistical Researcher', 'Audit Manager',\n",
       "       'Senior Receivable Accountant', 'Raw Material Specialist',\n",
       "       'Senior Accountant', 'Egypt FINANCE MANAGER', 'Cost Accountant',\n",
       "       'Quality Control Section Head', 'Finance Manager',\n",
       "       'Repair Order Specialist', 'Senior Data Analyst', 'Compensation',\n",
       "       'Senior Geotechnical Engineer', 'Accounts Receivable Accountant',\n",
       "       'AP', 'Finance Officer', 'Accounting Officer',\n",
       "       'Financial Reporting Manager', 'Senior Assistant Brand Manager',\n",
       "       'Data Scientist', 'Senior Internal Auditor', 'General Accountant',\n",
       "       'Internal Auditor', 'Tax Manager', 'Senior Tax Accountant',\n",
       "       'Accountant', 'Accounting Manager'], dtype=object)"
      ]
     },
     "execution_count": 35,
     "metadata": {},
     "output_type": "execute_result"
    }
   ],
   "source": [
    "data[\"Job title\"].unique()[:50]"
   ]
  },
  {
   "cell_type": "code",
   "execution_count": 36,
   "id": "9e3cbede-22fe-4481-aa87-abda21d7cf49",
   "metadata": {},
   "outputs": [
    {
     "data": {
      "text/plain": [
       "Job title\n",
       "Accountant               63\n",
       "Senior Accountant        32\n",
       "Accounting Manager       30\n",
       "General Accountant       28\n",
       "Junior Accountant        17\n",
       "Financial Analyst        17\n",
       "Finance Manager          14\n",
       "Cost Accountant          14\n",
       "Business Analyst         14\n",
       "Chief Accountant         13\n",
       "Treasury Manager         11\n",
       "Data Analyst             10\n",
       "Treasury Accountant      10\n",
       "Financial Manager         9\n",
       "AP Accountant             9\n",
       "Senior Tax Accountant     8\n",
       "CFO                       8\n",
       "Account Manager           8\n",
       "Product Owner             7\n",
       "IT Manager                7\n",
       "Name: count, dtype: int64"
      ]
     },
     "execution_count": 36,
     "metadata": {},
     "output_type": "execute_result"
    }
   ],
   "source": [
    "\n",
    "data[\"Job title\"].value_counts()[:20]"
   ]
  },
  {
   "cell_type": "code",
   "execution_count": 37,
   "id": "5260ad27-b8ff-4f2a-b7ad-4d22822451b9",
   "metadata": {},
   "outputs": [
    {
     "name": "stdout",
     "output_type": "stream",
     "text": [
      " Number of unique values is : 85\n",
      "------------------------------\n",
      "['Maadi, Cairo, Egypt ' 'Cairo, Egypt ' 'Alexandria, Egypt '\n",
      " 'Heliopolis, Cairo, Egypt ' 'Nasr City, Cairo, Egypt '\n",
      " 'New Cairo, Cairo, Egypt ' '10th of Ramadan City, Sharqia, Egypt '\n",
      " '6th of October, Giza, Egypt ' 'Sheikh Zayed, Giza, Egypt '\n",
      " 'Giza, Egypt ' 'Haram, Giza, Egypt ' 'Belbes, Sharqia, Egypt '\n",
      " 'Dokki, Giza, Egypt ' 'San Stefano, Alexandria, Egypt '\n",
      " 'Mohandessin, Giza, Egypt ' 'Abbassia, Cairo, Egypt '\n",
      " 'Smart Village, Giza, Egypt ' 'Sheraton, Cairo, Egypt '\n",
      " 'Bab Sharq, Alexandria, Egypt ' 'Madinaty, Cairo, Egypt '\n",
      " 'Smouha, Alexandria, Egypt ' 'Obour City, Cairo, Egypt '\n",
      " 'Downtown, Cairo, Egypt ' '10th of Ramadan City, Cairo, Egypt '\n",
      " 'Ain Sokhna, Suez, Egypt ' 'New Capital, Cairo, Egypt '\n",
      " 'Agouza, Giza, Egypt ' 'Boulaq, Cairo, Egypt '\n",
      " 'Shorouk City, Cairo, Egypt ' 'Mokattam, Cairo, Egypt '\n",
      " 'Helwan, Cairo, Egypt ' 'Luxor, Luxor, Egypt ' 'Aswan, Aswan, Egypt '\n",
      " 'Katameya, Cairo, Egypt ' 'Sharqia, Egypt '\n",
      " 'Shubra Alkhaymah, Qalubia, Egypt ' 'New Damietta, Damietta, Egypt '\n",
      " 'Manial, Cairo, Egypt ' 'Abu Rawash, Giza, Egypt '\n",
      " 'Basatin, Cairo, Egypt ' 'Alsadat City, Monufya, Egypt '\n",
      " 'Gharbia, Egypt ' 'Bourj Alarab, Alexandria, Egypt '\n",
      " 'Sidi Bishr, Alexandria, Egypt ' 'Mansoura, Dakahlia, Egypt '\n",
      " 'Rehab City, Cairo, Egypt ' 'Ameria, Alexandria, Egypt '\n",
      " 'Kafr Alsheikh, Egypt ' 'Ismailia, Ismailia, Egypt '\n",
      " 'Stanley, Alexandria, Egypt ']\n"
     ]
    }
   ],
   "source": [
    "print(f\" Number of unique values is : {data['Location'].nunique()}\")\n",
    "print(\"-\" * 30)\n",
    "print(data[\"Location\"].unique()[:50])"
   ]
  },
  {
   "cell_type": "code",
   "execution_count": 38,
   "id": "7de4217c-5cd0-4a70-baaf-6dfd9e5102b4",
   "metadata": {},
   "outputs": [
    {
     "data": {
      "text/plain": [
       "Location\n",
       "Cairo, Egypt                             517\n",
       "New Cairo, Cairo, Egypt                  155\n",
       "Nasr City, Cairo, Egypt                  105\n",
       "6th of October, Giza, Egypt              104\n",
       "Maadi, Cairo, Egypt                      102\n",
       "Heliopolis, Cairo, Egypt                  73\n",
       "Sheikh Zayed, Giza, Egypt                 53\n",
       "Alexandria, Egypt                         41\n",
       "Mohandessin, Giza, Egypt                  40\n",
       "10th of Ramadan City, Sharqia, Egypt      36\n",
       "Sheraton, Cairo, Egypt                    33\n",
       "Obour City, Cairo, Egypt                  33\n",
       "Dokki, Giza, Egypt                        27\n",
       "Giza, Egypt                               27\n",
       "10th of Ramadan City, Cairo, Egypt        27\n",
       "Haram, Giza, Egypt                        15\n",
       "Downtown, Cairo, Egypt                    13\n",
       "Mokattam, Cairo, Egypt                    13\n",
       "Smart Village, Giza, Egypt                12\n",
       "Abu Rawash, Giza, Egypt                   12\n",
       "Name: count, dtype: int64"
      ]
     },
     "execution_count": 38,
     "metadata": {},
     "output_type": "execute_result"
    }
   ],
   "source": [
    "data['Location'].value_counts()[:20]"
   ]
  },
  {
   "cell_type": "code",
   "execution_count": 39,
   "id": "9bb9eb81-5c27-4575-b94b-42773cd35b64",
   "metadata": {},
   "outputs": [],
   "source": [
    "def remove_country(country):\n",
    "    return country.replace(\", Egypt\",\"\").strip()\n",
    "data['Location'] = data['Location'].apply(remove_country)"
   ]
  },
  {
   "cell_type": "code",
   "execution_count": 40,
   "id": "2e7bbf29-29bd-4705-a61f-0d3adcd47b31",
   "metadata": {},
   "outputs": [
    {
     "data": {
      "text/plain": [
       "array(['Maadi, Cairo', 'Cairo', 'Alexandria', 'Heliopolis, Cairo',\n",
       "       'Nasr City, Cairo', 'New Cairo, Cairo',\n",
       "       '10th of Ramadan City, Sharqia', '6th of October, Giza',\n",
       "       'Sheikh Zayed, Giza', 'Giza', 'Haram, Giza', 'Belbes, Sharqia',\n",
       "       'Dokki, Giza', 'San Stefano, Alexandria', 'Mohandessin, Giza',\n",
       "       'Abbassia, Cairo', 'Smart Village, Giza', 'Sheraton, Cairo',\n",
       "       'Bab Sharq, Alexandria', 'Madinaty, Cairo', 'Smouha, Alexandria',\n",
       "       'Obour City, Cairo', 'Downtown, Cairo',\n",
       "       '10th of Ramadan City, Cairo', 'Ain Sokhna, Suez',\n",
       "       'New Capital, Cairo', 'Agouza, Giza', 'Boulaq, Cairo',\n",
       "       'Shorouk City, Cairo', 'Mokattam, Cairo', 'Helwan, Cairo',\n",
       "       'Luxor, Luxor', 'Aswan, Aswan', 'Katameya, Cairo', 'Sharqia',\n",
       "       'Shubra Alkhaymah, Qalubia', 'New Damietta, Damietta',\n",
       "       'Manial, Cairo', 'Abu Rawash, Giza', 'Basatin, Cairo',\n",
       "       'Alsadat City, Monufya', 'Gharbia', 'Bourj Alarab, Alexandria',\n",
       "       'Sidi Bishr, Alexandria', 'Mansoura, Dakahlia',\n",
       "       'Rehab City, Cairo', 'Ameria, Alexandria', 'Kafr Alsheikh',\n",
       "       'Ismailia, Ismailia', 'Stanley, Alexandria'], dtype=object)"
      ]
     },
     "execution_count": 40,
     "metadata": {},
     "output_type": "execute_result"
    }
   ],
   "source": [
    "data['Location'].unique()[:50]"
   ]
  },
  {
   "cell_type": "code",
   "execution_count": 41,
   "id": "811430fa-5eae-4941-8751-87ce27d6893f",
   "metadata": {},
   "outputs": [
    {
     "data": {
      "text/plain": [
       "array(['Full Time', 'Part Time', 'Internship', 'Freelance / Project'],\n",
       "      dtype=object)"
      ]
     },
     "execution_count": 41,
     "metadata": {},
     "output_type": "execute_result"
    }
   ],
   "source": [
    "data['Job type'].unique()"
   ]
  },
  {
   "cell_type": "code",
   "execution_count": 42,
   "id": "52686357-55f8-4c84-bf01-fdebf744bea0",
   "metadata": {},
   "outputs": [],
   "source": [
    "data['Job type'].replace(\"Freelance / Project\", \"Freelance\", inplace = True)"
   ]
  },
  {
   "cell_type": "code",
   "execution_count": 43,
   "id": "a41d6e5f-81d0-4283-a953-7c95f6ba9fb7",
   "metadata": {},
   "outputs": [
    {
     "data": {
      "text/plain": [
       "Job type\n",
       "Full Time     1598\n",
       "Part Time        7\n",
       "Internship       7\n",
       "Freelance        6\n",
       "Name: count, dtype: int64"
      ]
     },
     "execution_count": 43,
     "metadata": {},
     "output_type": "execute_result"
    }
   ],
   "source": [
    "data['Job type'].value_counts()"
   ]
  },
  {
   "cell_type": "code",
   "execution_count": 44,
   "id": "ce68133f-4710-4ebf-a6e8-b47ed56dc7e0",
   "metadata": {},
   "outputs": [
    {
     "data": {
      "text/plain": [
       "array(['Experienced', 'Manager', 'Senior Management', 'Entry Level',\n",
       "       'Not specified', 'Student'], dtype=object)"
      ]
     },
     "execution_count": 44,
     "metadata": {},
     "output_type": "execute_result"
    }
   ],
   "source": [
    "data['Exp level'].unique()"
   ]
  },
  {
   "cell_type": "code",
   "execution_count": 45,
   "id": "bc297a94-3632-4d8a-8b44-b513c1ebb778",
   "metadata": {},
   "outputs": [
    {
     "data": {
      "text/plain": [
       "Exp level\n",
       "Experienced          847\n",
       "Entry Level          294\n",
       "Manager              228\n",
       "Not specified        201\n",
       "Senior Management     44\n",
       "Student                4\n",
       "Name: count, dtype: int64"
      ]
     },
     "execution_count": 45,
     "metadata": {},
     "output_type": "execute_result"
    }
   ],
   "source": [
    "data['Exp level'].value_counts()"
   ]
  },
  {
   "cell_type": "code",
   "execution_count": 46,
   "id": "169fc438-67a8-41d3-886a-e669a2534ca1",
   "metadata": {},
   "outputs": [
    {
     "data": {
      "text/plain": [
       "array(['3 - 6 Yrs of Exp', '3 - 5 Yrs of Exp', '7 - 10 Yrs of Exp',\n",
       "       '2 - 4 Yrs of Exp', '1+ Yrs of Exp', '15 - 20 Yrs of Exp',\n",
       "       '10 - 15 Yrs of Exp', '7 - 15 Yrs of Exp', '1 - 3 Yrs of Exp',\n",
       "       '7 - 9 Yrs of Exp', '2+ Yrs of Exp', '2 - 5 Yrs of Exp',\n",
       "       '5 - 10 Yrs of Exp', '5 - 6 Yrs of Exp', '0 - 5 Yrs of Exp',\n",
       "       '2 - 7 Yrs of Exp', '5+ Yrs of Exp', '5 - 7 Yrs of Exp',\n",
       "       '5 - 8 Yrs of Exp', '3 - 7 Yrs of Exp', '4 - 6 Yrs of Exp',\n",
       "       '7 - 12 Yrs of Exp', '7 - 20 Yrs of Exp', '1 - 2 Yrs of Exp',\n",
       "       '0 - 3 Yrs of Exp', '1 - 4 Yrs of Exp', '3+ Yrs of Exp',\n",
       "       '3 - 8 Yrs of Exp', '0 - 1 Yrs of Exp', 'Customer Service/Support',\n",
       "       '8 - 12 Yrs of Exp', '2 - 3 Yrs of Exp', '2 - 6 Yrs of Exp',\n",
       "       '8 - 10 Yrs of Exp', '6 - 11 Yrs of Exp', '10+ Yrs of Exp',\n",
       "       '8+ Yrs of Exp', '10 - 20 Yrs of Exp', '17 - 20 Yrs of Exp',\n",
       "       '15 - 18 Yrs of Exp', '3 - 4 Yrs of Exp', '7+ Yrs of Exp',\n",
       "       '4 - 5 Yrs of Exp', '1 - 5 Yrs of Exp', 'males_only',\n",
       "       '4 - 7 Yrs of Exp', '0 - 2 Yrs of Exp', '3 - 10 Yrs of Exp',\n",
       "       '5 - 15 Yrs of Exp', '15+ Yrs of Exp', '7 - 11 Yrs of Exp',\n",
       "       '12 - 19 Yrs of Exp', '4 - 8 Yrs of Exp', '4 - 10 Yrs of Exp',\n",
       "       '1 - 1 Yrs of Exp', '10 - 12 Yrs of Exp', 'Accounting/Finance',\n",
       "       '5 - 11 Yrs of Exp', '6 - 10 Yrs of Exp', '20+ Yrs of Exp',\n",
       "       '10 - 18 Yrs of Exp', '17+ Yrs of Exp', '2 - 20 Yrs of Exp',\n",
       "       'Analyst/Research', '12 - 15 Yrs of Exp', '4+ Yrs of Exp',\n",
       "       '12+ Yrs of Exp', '2 - 2 Yrs of Exp', '9 - 10 Yrs of Exp',\n",
       "       '3 - 3 Yrs of Exp', '10 - 13 Yrs of Exp', '10 - 17 Yrs of Exp',\n",
       "       '8 - 15 Yrs of Exp', '10 - 11 Yrs of Exp', '5 - 9 Yrs of Exp',\n",
       "       '1 - 7 Yrs of Exp', 'males_preferred', 'Marketing/PR/Advertising',\n",
       "       'Legal', 'IT/Software Development', 'Human Resources',\n",
       "       'Logistics/Supply Chain', 'Project/Program Management',\n",
       "       'Administration', 'Engineering - Construction/Civil/Architecture',\n",
       "       'Business Development', 'Quality',\n",
       "       'Installation/Maintenance/Repair', 'Operations/Management',\n",
       "       'R&D/Science', 'Hospitality/Hotels/Food Services',\n",
       "       'Medical/Healthcare', 'Creative/Design/Art', '1 - 10 Yrs of Exp',\n",
       "       '4 - 15 Yrs of Exp', '4 - 12 Yrs of Exp', '6 - 8 Yrs of Exp',\n",
       "       '9 - 11 Yrs of Exp', '9 - 13 Yrs of Exp', '9 - 12 Yrs of Exp',\n",
       "       '7 - 14 Yrs of Exp', '6 - 7 Yrs of Exp', '8 - 11 Yrs of Exp',\n",
       "       '15 - 17 Yrs of Exp', '1 - 15 Yrs of Exp', '2 - 10 Yrs of Exp',\n",
       "       '8 - 20 Yrs of Exp', '8 - 16 Yrs of Exp', '1 - 6 Yrs of Exp',\n",
       "       '5 - 20 Yrs of Exp', '0 - 4 Yrs of Exp', '6 - 15 Yrs of Exp',\n",
       "       '5 - 12 Yrs of Exp', '7 - 13 Yrs of Exp', '12 - 20 Yrs of Exp',\n",
       "       '9 - 14 Yrs of Exp', '2 - 8 Yrs of Exp', 'Sales/Retail',\n",
       "       '7 - 8 Yrs of Exp'], dtype=object)"
      ]
     },
     "execution_count": 46,
     "metadata": {},
     "output_type": "execute_result"
    }
   ],
   "source": [
    "data['Exp years'].unique()"
   ]
  },
  {
   "cell_type": "code",
   "execution_count": 47,
   "id": "1838d73d-c1cf-4499-be5f-cae5ada7b35b",
   "metadata": {},
   "outputs": [],
   "source": [
    "def extract_numiric_values(value):\n",
    "      return re.sub(r\"[^0-9-]\", \"\", value)\n",
    "    \n",
    "data[\"Exp years\"] = data[\"Exp years\"].apply(extract_numiric_values)"
   ]
  },
  {
   "cell_type": "code",
   "execution_count": 48,
   "id": "cb8285cf-62d6-45d2-9a6c-b256065d9669",
   "metadata": {},
   "outputs": [
    {
     "data": {
      "text/plain": [
       "array(['3-6', '3-5', '7-10', '2-4', '1', '15-20', '10-15', '7-15', '1-3',\n",
       "       '7-9', '2', '2-5', '5-10', '5-6', '0-5', '2-7', '5', '5-7', '5-8',\n",
       "       '3-7', '4-6', '7-12', '7-20', '1-2', '0-3', '1-4', '3', '3-8',\n",
       "       '0-1', '', '8-12', '2-3', '2-6', '8-10', '6-11', '10', '8',\n",
       "       '10-20', '17-20', '15-18', '3-4', '7', '4-5', '1-5', '4-7', '0-2',\n",
       "       '3-10', '5-15', '15', '7-11', '12-19', '4-8', '4-10', '1-1',\n",
       "       '10-12', '5-11', '6-10', '20', '10-18', '17', '2-20', '12-15', '4',\n",
       "       '12', '2-2', '9-10', '3-3', '10-13', '10-17', '8-15', '10-11',\n",
       "       '5-9', '1-7', '-', '1-10', '4-15', '4-12', '6-8', '9-11', '9-13',\n",
       "       '9-12', '7-14', '6-7', '8-11', '15-17', '1-15', '2-10', '8-20',\n",
       "       '8-16', '1-6', '5-20', '0-4', '6-15', '5-12', '7-13', '12-20',\n",
       "       '9-14', '2-8', '7-8'], dtype=object)"
      ]
     },
     "execution_count": 48,
     "metadata": {},
     "output_type": "execute_result"
    }
   ],
   "source": [
    "data['Exp years'].unique()"
   ]
  },
  {
   "cell_type": "code",
   "execution_count": 49,
   "id": "ce621269-18bb-4069-81ac-ed106749a26a",
   "metadata": {},
   "outputs": [],
   "source": [
    "\n",
    "def replace_empty_and_Hyphen_toZero(value):\n",
    "    return '0' if value in ['', '-'] else value\n",
    "\n",
    "data[\"Exp years\"] = data[\"Exp years\"].apply(replace_empty_and_Hyphen_toZero)"
   ]
  },
  {
   "cell_type": "code",
   "execution_count": 50,
   "id": "26a75f46-74e5-4edb-a8ec-103858215135",
   "metadata": {},
   "outputs": [
    {
     "data": {
      "text/plain": [
       "array(['3-6', '3-5', '7-10', '2-4', '1', '15-20', '10-15', '7-15', '1-3',\n",
       "       '7-9', '2', '2-5', '5-10', '5-6', '0-5', '2-7', '5', '5-7', '5-8',\n",
       "       '3-7', '4-6', '7-12', '7-20', '1-2', '0-3', '1-4', '3', '3-8',\n",
       "       '0-1', '0', '8-12', '2-3', '2-6', '8-10', '6-11', '10', '8',\n",
       "       '10-20', '17-20', '15-18', '3-4', '7', '4-5', '1-5', '4-7', '0-2',\n",
       "       '3-10', '5-15', '15', '7-11', '12-19', '4-8', '4-10', '1-1',\n",
       "       '10-12', '5-11', '6-10', '20', '10-18', '17', '2-20', '12-15', '4',\n",
       "       '12', '2-2', '9-10', '3-3', '10-13', '10-17', '8-15', '10-11',\n",
       "       '5-9', '1-7', '1-10', '4-15', '4-12', '6-8', '9-11', '9-13',\n",
       "       '9-12', '7-14', '6-7', '8-11', '15-17', '1-15', '2-10', '8-20',\n",
       "       '8-16', '1-6', '5-20', '0-4', '6-15', '5-12', '7-13', '12-20',\n",
       "       '9-14', '2-8', '7-8'], dtype=object)"
      ]
     },
     "execution_count": 50,
     "metadata": {},
     "output_type": "execute_result"
    }
   ],
   "source": [
    "data['Exp years'].unique()"
   ]
  },
  {
   "cell_type": "code",
   "execution_count": 51,
   "id": "3918bd1b-5c7a-4960-8b7a-17eac978467d",
   "metadata": {},
   "outputs": [
    {
     "data": {
      "text/plain": [
       "array(['Analyst/Research,Analysis,Business Analysis,Communication skills,Software Development,SQL,systems analysis',\n",
       "       'Accounting/Finance,Banking,Manufacturing/Production,analytical,Budgeting,Finance,Financial Analysis',\n",
       "       'Accounting/Finance,Operations/Management,Analyst/Research,Accounting,Analysis,Data Analysis,Finance,Financial Analysis,Financial Management,Financial Reports',\n",
       "       ...,\n",
       "       'Manufacturing/Production,Quality,Pharmaceutical,QC,Pharmaceutical,Quality Control,Communication skills,Sciences,Pharmaceutical Sciences,quality',\n",
       "       'Engineering - Construction/Civil/Architecture,Construction Engineering,Construction Field,Construction Management,Construction Project Management,Planning',\n",
       "       'Engineering - Construction/Civil/Architecture,Architecture,AutoCAD,Engineering,excel,MS Office'],\n",
       "      dtype=object)"
      ]
     },
     "execution_count": 51,
     "metadata": {},
     "output_type": "execute_result"
    }
   ],
   "source": [
    "data['Skills'].unique()"
   ]
  },
  {
   "cell_type": "code",
   "execution_count": 52,
   "id": "0d4da91e-d9bb-4631-b951-74c1b3ef877b",
   "metadata": {},
   "outputs": [],
   "source": [
    "def clean_skills(skills):\n",
    "    skills = skills.replace('/',' ,')\n",
    "    skills = skills.replace('-',' ,')\n",
    "    return skills\n",
    "data['Skills'] = data['Skills'].apply(clean_skills)"
   ]
  },
  {
   "cell_type": "code",
   "execution_count": 53,
   "id": "9cf3dd58-5298-49cc-bc39-29b9182ec221",
   "metadata": {},
   "outputs": [
    {
     "data": {
      "text/plain": [
       "array(['Analyst ,Research,Analysis,Business Analysis,Communication skills,Software Development,SQL,systems analysis',\n",
       "       'Accounting ,Finance,Banking,Manufacturing ,Production,analytical,Budgeting,Finance,Financial Analysis',\n",
       "       'Accounting ,Finance,Operations ,Management,Analyst ,Research,Accounting,Analysis,Data Analysis,Finance,Financial Analysis,Financial Management,Financial Reports',\n",
       "       ...,\n",
       "       'Manufacturing ,Production,Quality,Pharmaceutical,QC,Pharmaceutical,Quality Control,Communication skills,Sciences,Pharmaceutical Sciences,quality',\n",
       "       'Engineering  , Construction ,Civil ,Architecture,Construction Engineering,Construction Field,Construction Management,Construction Project Management,Planning',\n",
       "       'Engineering  , Construction ,Civil ,Architecture,Architecture,AutoCAD,Engineering,excel,MS Office'],\n",
       "      dtype=object)"
      ]
     },
     "execution_count": 53,
     "metadata": {},
     "output_type": "execute_result"
    }
   ],
   "source": [
    "data['Skills'].unique()"
   ]
  },
  {
   "cell_type": "code",
   "execution_count": 54,
   "id": "07012182-f686-4a3a-af02-52be563ece11",
   "metadata": {},
   "outputs": [
    {
     "data": {
      "text/plain": [
       "Skills\n",
       "Administration,Operations ,Management,Finance,Accounting,Financial Analysis,Financial Management,Microsoft Office,Operations,CPA                                                   14\n",
       "Administration,Banking,Accounting,Finance,Financial Analysis,Financial Management,Microsoft Office,Commerce,ERP                                                                    10\n",
       "Marketing ,PR ,Advertising,Sales ,Retail,Sales,Sales Skills,Customer Service,Sales Target,Customer Support,Customer Care,Account Management                                         8\n",
       "Administration,Banking,Accounting,Finance,Financial Analysis,Financial Management,Microsoft Office,Commerce,Microsoft Excel                                                         8\n",
       "Analyst ,Research,Engineering  , Telecom ,Technology,Business Analysis,Information Technology (IT),Computer Science,Analysis,Software Development,Software,Computer Engineering     7\n",
       "                                                                                                                                                                                   ..\n",
       "Accounting ,Finance,Banking,Accounting,Finance,Financial Analysis,Bank Accountant,Bank,Banking,English,ERP                                                                          1\n",
       "Accounting ,Finance,Accounting,credit,Finance,Financial Analysis,FMCG,CMA                                                                                                           1\n",
       "Accounting ,Finance,Banking,Hospitality ,Hotels ,Food Services,Financial Analysis,Accounting,Accounting Software,AR,Finance,General Ledger                                          1\n",
       "Accounting ,Finance,Finance,Financial Analysis,Financial Statistics,Accounting,Tax Accounting                                                                                       1\n",
       "Engineering  , Construction ,Civil ,Architecture,Architecture,AutoCAD,Engineering,excel,MS Office                                                                                   1\n",
       "Name: count, Length: 1457, dtype: int64"
      ]
     },
     "execution_count": 54,
     "metadata": {},
     "output_type": "execute_result"
    }
   ],
   "source": [
    "data['Skills'].value_counts()"
   ]
  },
  {
   "cell_type": "code",
   "execution_count": 55,
   "id": "7e632ed5-f76a-4702-a396-e7afa5ead616",
   "metadata": {},
   "outputs": [
    {
     "data": {
      "text/html": [
       "<div>\n",
       "<style scoped>\n",
       "    .dataframe tbody tr th:only-of-type {\n",
       "        vertical-align: middle;\n",
       "    }\n",
       "\n",
       "    .dataframe tbody tr th {\n",
       "        vertical-align: top;\n",
       "    }\n",
       "\n",
       "    .dataframe thead th {\n",
       "        text-align: right;\n",
       "    }\n",
       "</style>\n",
       "<table border=\"1\" class=\"dataframe\">\n",
       "  <thead>\n",
       "    <tr style=\"text-align: right;\">\n",
       "      <th></th>\n",
       "      <th>Job title</th>\n",
       "      <th>Company name</th>\n",
       "      <th>Location</th>\n",
       "      <th>Job type</th>\n",
       "      <th>Exp level</th>\n",
       "      <th>Exp years</th>\n",
       "      <th>Skills</th>\n",
       "    </tr>\n",
       "  </thead>\n",
       "  <tbody>\n",
       "    <tr>\n",
       "      <th>78</th>\n",
       "      <td>Treasury Accountant</td>\n",
       "      <td>Egyptian Abrasives Co. -</td>\n",
       "      <td>Bab Sharq, Alexandria</td>\n",
       "      <td>Full Time</td>\n",
       "      <td>Entry Level</td>\n",
       "      <td>2-4</td>\n",
       "      <td>Accounting ,Finance,Finance,Accounting,Treasur...</td>\n",
       "    </tr>\n",
       "    <tr>\n",
       "      <th>962</th>\n",
       "      <td>Remote Data Scientist</td>\n",
       "      <td>Turing -</td>\n",
       "      <td>Cairo</td>\n",
       "      <td>Full Time</td>\n",
       "      <td>Entry Level</td>\n",
       "      <td>0</td>\n",
       "      <td>Analyst ,Research,Engineering  , Telecom ,Tech...</td>\n",
       "    </tr>\n",
       "    <tr>\n",
       "      <th>1045</th>\n",
       "      <td>Commercial Specialist</td>\n",
       "      <td>Concrete For Readymade Garments -</td>\n",
       "      <td>Mohandessin, Giza</td>\n",
       "      <td>Full Time</td>\n",
       "      <td>Entry Level</td>\n",
       "      <td>1-3</td>\n",
       "      <td>Analyst ,Research,Sales ,Retail,Analyze,Commer...</td>\n",
       "    </tr>\n",
       "    <tr>\n",
       "      <th>560</th>\n",
       "      <td>Business Analyst</td>\n",
       "      <td>Youxel -</td>\n",
       "      <td>Cairo</td>\n",
       "      <td>Full Time</td>\n",
       "      <td>Experienced</td>\n",
       "      <td>4</td>\n",
       "      <td>IT ,Software Development,Analyst ,Research,Eng...</td>\n",
       "    </tr>\n",
       "    <tr>\n",
       "      <th>224</th>\n",
       "      <td>General Accountant</td>\n",
       "      <td>Mido  -</td>\n",
       "      <td>Cairo</td>\n",
       "      <td>Full Time</td>\n",
       "      <td>Experienced</td>\n",
       "      <td>7-10</td>\n",
       "      <td>Accounting ,Finance,Accounting,accountant,Fina...</td>\n",
       "    </tr>\n",
       "  </tbody>\n",
       "</table>\n",
       "</div>"
      ],
      "text/plain": [
       "                  Job title                       Company name  \\\n",
       "78      Treasury Accountant           Egyptian Abrasives Co. -   \n",
       "962   Remote Data Scientist                           Turing -   \n",
       "1045  Commercial Specialist  Concrete For Readymade Garments -   \n",
       "560        Business Analyst                           Youxel -   \n",
       "224      General Accountant                            Mido  -   \n",
       "\n",
       "                   Location   Job type    Exp level Exp years  \\\n",
       "78    Bab Sharq, Alexandria  Full Time  Entry Level       2-4   \n",
       "962                   Cairo  Full Time  Entry Level         0   \n",
       "1045      Mohandessin, Giza  Full Time  Entry Level       1-3   \n",
       "560                   Cairo  Full Time  Experienced         4   \n",
       "224                   Cairo  Full Time  Experienced      7-10   \n",
       "\n",
       "                                                 Skills  \n",
       "78    Accounting ,Finance,Finance,Accounting,Treasur...  \n",
       "962   Analyst ,Research,Engineering  , Telecom ,Tech...  \n",
       "1045  Analyst ,Research,Sales ,Retail,Analyze,Commer...  \n",
       "560   IT ,Software Development,Analyst ,Research,Eng...  \n",
       "224   Accounting ,Finance,Accounting,accountant,Fina...  "
      ]
     },
     "execution_count": 55,
     "metadata": {},
     "output_type": "execute_result"
    }
   ],
   "source": [
    "data.sample(5)"
   ]
  },
  {
   "cell_type": "code",
   "execution_count": 56,
   "id": "2d7d9c8a-50ab-4e8a-b5ce-12e8bc0f2823",
   "metadata": {},
   "outputs": [
    {
     "data": {
      "text/plain": [
       "array(['Safa Soft -', 'Confidential -', 'Mafad Contracting Company   -',\n",
       "       'Cleopatra Hospitals Group -', 'EpsilonAI -', 'Ibn Sina Pharma -',\n",
       "       'Bydotpy -', 'شركه طنطا موتورز -', 'Al monairy -',\n",
       "       'Vision Cosmetics -', 'Global Napi Pharmaceuticals -',\n",
       "       'Infinity Clinic Pharma -', 'Fawry Microfinance  -',\n",
       "       'Healthy & Tasty -', 'MINISO LIFE -', 'Arma-HSA -', 'Lumin -',\n",
       "       'MTI -', 'Bloommena Advertising company -', 'Teqneia -',\n",
       "       'ITSP Group -', 'Target Recruitment  & HR Solutions  -',\n",
       "       'Rotabiogen -', 'Anchor Consultancy -', 'Atlantis Egypt Tours -',\n",
       "       'Alouf Travel -', 'Saveto -',\n",
       "       \"Happy Joe's Pizza & Ice Cream - Middle East -\",\n",
       "       'Greater Cairo Foundries Co. S.A.E -', 'World Trip Deal  -',\n",
       "       'OPPO Egypt  -', 'Eg Insurtech -',\n",
       "       'Partners Outsourcing Solutions -', 'A-part Auto -', 'EGEC -',\n",
       "       'Ryze Clubs  -', 'Leeds -', 'Almosafer -', 'CeberNet -',\n",
       "       'International Food & Consumable Goods - Egypt S.A.E -',\n",
       "       'ELDAYEL FOR LEATHER INDUSTRY  -', 'oworkers -',\n",
       "       'EDECS El Dawlia for Engineering & Contracting -', 'ZINAD IT -',\n",
       "       'Digital Path  -', 'MMA accounting office -',\n",
       "       'Gahez Digital Marketing -', 'Talaat Moustafa Group -',\n",
       "       'My Truck Logistics, LLC   -', 'ElMehy Engineering Company -',\n",
       "       'Egyptian Abrasives Co. -', 'Sutherland -', 'Powergreen -',\n",
       "       'Allianz -', 'ESLSCA University -', 'IQRA Network -',\n",
       "       'ABCO Group  -',\n",
       "       'Fawry for Banking Technology and Electronic Payments S.A.E -',\n",
       "       'mazenet solution  -', 'Link Datacenter -',\n",
       "       'NEW GCC GROUP LIMITLESS  -', 'Softec Technologies -',\n",
       "       'Arabian Monayri for Industry, Shipping & Trade -',\n",
       "       'Selah ElTelmeez For Publishing & printing -', 'Union Group -',\n",
       "       'Atrium Egypt -', 'Nahdet Misr Publishing Group -',\n",
       "       'El Mohandess Print House -', 'Paymob Solutions -', 'Engosoft -',\n",
       "       'Archi Touch -', 'COLAS RAIL Egypt -', 'Wadi Tours -',\n",
       "       'ECO Fab Egypt -', 'Alwadi Holding -', 'Podium -', 'Bubblzz -',\n",
       "       'Saint-Gobain -', 'A&M INTERNATIONAL FOR ENGINEERING WORKS  -',\n",
       "       'National Electricity Technology Co. -',\n",
       "       'MAC EGYPT REAL ESTATE CO. -',\n",
       "       'Capital One holding for investment -', 'TECTRA -',\n",
       "       'Injaz Digital  -', 'Tamweely -', 'Midea Group -',\n",
       "       'Seoudi Supermarket -', 'Good Seed -', 'Sahara Printing Company -',\n",
       "       'EgyptExpress -', 'SIPES -', 'Eco associates -',\n",
       "       'Atlas Investment & Food Industries -', 'ICON Holding -',\n",
       "       'Misr Elkheir Foundation -', 'Rashideen Egypt for Trade  -',\n",
       "       'Bevatel -', 'English Zone -', 'Aldawlia For Plastic Materials -',\n",
       "       'Monoplay -', 'City Master Group Developments -',\n",
       "       'Sinai University -', 'North point -', 'Aman -', 'aipt&t Egypt -',\n",
       "       'Solotex -', 'Sanad Farms   -', 'Hebeish Group -',\n",
       "       'Swiss Garment Company -', 'Sharm Dreams Group  -', 'Orthomed E -',\n",
       "       'BioEnergy -', 'Industrial Services Center - Datco -',\n",
       "       'Lecico Egypt -', 'Tradeline Stores -',\n",
       "       'Raafat Miller Consulting -', 'The Translation Gate -',\n",
       "       'American Aligners -', 'Yodawy Med -',\n",
       "       'شركة تيكون للتجارة الدولية -', 'Al-Raeda for Construction  -',\n",
       "       'Arafa Retail Group -', 'Nile Projects & Trading -',\n",
       "       'GT World OF Beauty -', 'MBG -', 'NMDC -',\n",
       "       'AlGammal Contracting -', 'Raya Distribution -',\n",
       "       'Azza Fahmy Jewellery -', 'Chloride -', 'IT Pillars -',\n",
       "       'Safoury Development   -', 'Kellogg Tolaram Noodles Egypt LLC -',\n",
       "       'ALWAN AL ALBARQ  -', 'Menard -', 'Memaar Alashraaf -',\n",
       "       'T&D Design -', 'Better Home -', 'Nacita -',\n",
       "       'Cairo Three A Poultry -', 'Massoud Steel -', 'Sulfah -',\n",
       "       'Wadi El Nile Cement -', 'Orchidia Pharmaceutical Industries -',\n",
       "       'Delta Capital for Urban Development -',\n",
       "       'Ayoun Masr Co For Tourism Development -', 'Hamza Group -',\n",
       "       'El Abd Group -',\n",
       "       'The Micro, Small & Medium Enterprise Development Agency  -',\n",
       "       'Shifa Egypt -', 'aallie software solution -', 'Mido  -',\n",
       "       'NOK for Human Capital Solutions -',\n",
       "       'الشركة الدولية للتنمية السياحية -',\n",
       "       'SHAWAHID ROADS INDUSTRIAL COMPANY   -', 'EL Masry Group -',\n",
       "       'BHF -', 'Shehab Mazhar -', 'Smart Window -', 'Tiba Egypt  -',\n",
       "       'Regency For Trading and Supply -', 'Dawi Clinics -',\n",
       "       'Easy Group For Health and Beauty Care -',\n",
       "       'Gulf Data International  -', 'Intercap Capital  -', 'alfanar -',\n",
       "       'Bakier -', 'Smile Makers  -', 'Interact Technology Solutions -',\n",
       "       'SERA Mattress & Furniture  -', 'Zewail City -',\n",
       "       'Delta Egypt For Lighting  -', ' AB & Associates -', 'EMpower -',\n",
       "       'KALINE COSMETICS  -', 'Xervon Egypt  -', 'qTech.  -',\n",
       "       'BBI-Consultancy -', 'Nexus Analytica -', 'Digizilla -',\n",
       "       'Forward Contractors-Real Estate -', 'Juma Hub  -',\n",
       "       'Bayt El Khebra -', 'Sasco Group -', 'Sykes Enterprises -',\n",
       "       'Grand Plast  -', 'CRIF EGYPT -', 'TMA For Industrial Supplies -',\n",
       "       'PGQ Group  -', 'evocx work space   -',\n",
       "       'Alex international Company -', 'Haier Electric Egypt  -',\n",
       "       'El sewedy Trading  -', 'Cherry and Berry -',\n",
       "       'Basco Engineering &Trading -', 'Froneri -',\n",
       "       'Giza Power Industury -', 'Seldar Egypt -', 'ITIDA -',\n",
       "       'IT PLICITY -', 'capital elite developments -',\n",
       "       'El Teriak Industrial Group -', 'Jaffangroup -', 'Boutiqaat -',\n",
       "       'Global For Elevators and Esclators -',\n",
       "       'Rb consulting and training services Co. -', 'Napata -',\n",
       "       'Ultimate Solutions Egypt -', 'Reliance Egypt -',\n",
       "       'Ghandour Auto -', 'Horizon Chemical for Special Chemicals  -',\n",
       "       'Skywalk Developments -', 'Sphinx Glass -', 'Trufla -',\n",
       "       'Al_Montaha - المنتهى جروب للتخطيط و التنمية العمرانية -',\n",
       "       'Karcel -', 'Kandeel Group -',\n",
       "       'Kode Clubs - Hassan Allam Sports Clubs -',\n",
       "       \"King's School The Crown -\", 'Delta Medical Egypt -',\n",
       "       'Falcon data and business solutions -', 'IBIC Group -',\n",
       "       'Perfect Spinning -', 'Mantrac -',\n",
       "       'Al-Amal Al-sharif For Plastic -', 'IRSC -', 'Wham Clinics  -',\n",
       "       'Global conveyor technology -', 'Gila Electric -',\n",
       "       'شركة ناصر الكنهل للاستشارات المحاسبية-keep -',\n",
       "       'Arpu Telecommunication Services -',\n",
       "       'Marbella For Food Industry  -', 'Mahmoud Electric -',\n",
       "       'Hands of Hope Physical Therapy & Wellness -', 'GlassQbe  -',\n",
       "       'Envision Employment Solutions -', 'LBH Egypt -',\n",
       "       'الناجح للخدمات والاستشارات التعليمية والطلابية -',\n",
       "       'Jamjoom Pharma -', 'Sequel Solutions -', 'Power Solutions -',\n",
       "       'Agazat Masr -', 'Tecnogroup -', 'Rockal -',\n",
       "       'Al Ahly Medical Company -', 'Kandil Industries -',\n",
       "       'MB for Engineering -', 'Egypt Gold  -', 'Sanad Books -',\n",
       "       'Meem Development -', 'Casita -', 'MTS -',\n",
       "       'balkan for food industrie -', 'Onecard -', 'BTC-Egypt Gold -',\n",
       "       'Syad Tech -', 'Lilly home  -', 'MAJ Consulting Group -',\n",
       "       'Taheal -', 'Egyptian Company for Cosmetics -',\n",
       "       'Titan Cement Egypt  -', 'Ebakr -', 'Global Advanced Systems -',\n",
       "       'Hayat -', 'Protection -', 'Octopus Outsourcing  -',\n",
       "       'Elwan For Ceramic and Porcelain -', 'GES -', 'Elabd Foods -',\n",
       "       'Turbo Egypt Compression -', 'Bold Brand -', 'Voxelway -', 'PC -',\n",
       "       'makaremtex -', 'APEX Pharma -', 'GlassRock Insulation Co. -',\n",
       "       'PMaestro -', 'FlapKap -', 'Afaqy -', 'Mobi Egypt -', 'Rameda -',\n",
       "       'Smart GYM -', 'Ramtrade -', 'Tripathon -', 'Argaam -',\n",
       "       'Elsaba AutoService -', 'Spectrum Groupe -', 'Alarabia Group -',\n",
       "       'Rowad Modern Engineering -',\n",
       "       'Aga Khan Cultural services- Egypt (AKCS-E) -',\n",
       "       'African Queen Travel  -', 'GET Group- Egypt -', 'Breadfast -',\n",
       "       'La Poire -', 'Bouri Group -', 'Happy Vision -',\n",
       "       'Egyptian Starch and Glucose  Manufacturing Company -',\n",
       "       '365 Ecology -', 'Emeco Travel  -', 'Golden Tours -',\n",
       "       'Allamna Integrated Solutions -', 'A.T Lease Egypt -',\n",
       "       'Atco Pharma For Pharmaceutical Industries -',\n",
       "       'Elsewedy industries -', 'Akhnaton for Trading & Distributing  -',\n",
       "       'Abu Gemeaa -', 'Knowledge Bi - Odoo Gold Partners -',\n",
       "       'Expert Apps -', 'Cairoscan -',\n",
       "       'Qawafil For Real Estate Investment -', 'Danat Travels  -',\n",
       "       'KIG Konnice -', 'Royal Herbs  -', 'National Paints -',\n",
       "       'Tarek Trade Furniture  -', 'El Nasr Group -', 'Miracle-On -',\n",
       "       'Hala Consulting  -', 'Statements Consulting -', 'Forest Line -',\n",
       "       'EFS -', 'Floortec -', 'EGYGAB Developments -', 'GEMS Education -',\n",
       "       'Osolutions -', 'Algoriza -', 'Vndro.com -',\n",
       "       'Abaza Sports Group -', 'National holding -', 'LINK Development -',\n",
       "       'DME Holding -', 'Ascon Advanced Solutions & Consultant -',\n",
       "       'Elaraby Group -', 'Masry for Engineering & trading -',\n",
       "       'onyx consulting  -', 'Outlook -', 'Karnak Group -',\n",
       "       'Mezyan Development -', 'Valeurs  -',\n",
       "       'Nour Eldin Elsherif for Trading vehicles -', 'ariika -',\n",
       "       'Outservingplus -', 'Sea Port for Trading and Engineering -',\n",
       "       'classera -', 'Cubic -',\n",
       "       'Premier Services and Recruitment Overseas  -',\n",
       "       'Misr Elhegaz Group -', 'Sinamix -', 'Youxel -',\n",
       "       'EMECO General Contracting Co. -', 'IT Valley -',\n",
       "       'Arabia for Information Technology -',\n",
       "       'Asfour for Mining and Refractories -', 'Wood Equipment Co  -',\n",
       "       'Tawzef -', 'Windrose Academy -', 'Global Brands -',\n",
       "       'https://www.orion-eg.com/ -', 'JoviTronix  -', 'Air Arabia -',\n",
       "       'Raghaeb for managing restaurants (ABU TAREK KUSHARI) -',\n",
       "       'S W Group for Trading Agencies  -', 'Multicare -',\n",
       "       'germanstandrd -', 'KEC- IDENTITY FOR ENGENERING -',\n",
       "       'Transmar International  -', 'Gazelle Trade -',\n",
       "       'ARC Technologies -', 'Mersal  -', 'IT Systems Corporation -',\n",
       "       'ECOVIS Elkadeem & Co. Consultancy -', \"Tam's shoe maker -\",\n",
       "       'Antifat Company -', 'Egypt Best Properties -',\n",
       "       'Ostool Transport -', 'MENA INTEL -', 'Art Food -',\n",
       "       'Orbit tech.  -', 'Sun Pyramids Tours -', 'branspect -',\n",
       "       'Etisal EG -', 'B.TECH -', 'Medval Health Care -',\n",
       "       'Cairo Transport & Touring  -', 'Tagaddod -', 'Coca-Cola HBC -',\n",
       "       'Al-Mansour Automotive -', 'Khazna Tech -', 'Al-Futtaim Health -',\n",
       "       'Jadeer -', 'Ring -', 'Deloitte -', 'Amgen Italia -', 'EIT-Hub -',\n",
       "       'Capgemini -', 'ROBUSTA -', 'Homzmart -', 'IHG Hotels & Resorts -',\n",
       "       'Rekrut by Talent 360 -', 'kapa.ai -', 'RATP Dev Mobility Cairo -',\n",
       "       'The Professionals -', 'Magrabi Retail -',\n",
       "       'Albostany for real estate -',\n",
       "       'IFC - International Finance Corporation -',\n",
       "       'MAGRABi Retail Group -', 'Solenis -',\n",
       "       'Tawzef for Recruitment & HR Consultancy -', 'iSchool -',\n",
       "       'iHorizons -', 'SupportFinity™ -', 'Pfizer - Other locations -',\n",
       "       'Pfizer Deutschland GmbH -', 'Nawy Real Estate -', 'FAO -',\n",
       "       'Pfizer -', 'Hikma Pharmaceuticals PLC -', 'Flextock -', 'MaxAB -',\n",
       "       'TLScontact -', 'CWT Meetings & Events -', 'Plan International -',\n",
       "       'Hikma Pharmaceuticals -', 'MediaMonks -', 'Squadio -',\n",
       "       'Rashideen Egypt for Trade Company -',\n",
       "       'Japan Tobacco International -', 'LikeCard -',\n",
       "       'Save the Children International -', 'IQVIA Inc -', 'Givaudan -',\n",
       "       'Pepsi -', 'Al Ahram Beverages Company -', 'learnatnoon.com -',\n",
       "       'Raya Trade & Distribution -', 'Egybell -',\n",
       "       'Schneider Electric - Egypt -', 'DAR ENGINEERING -', 'Turing -',\n",
       "       'dentsu -', 'DXC.technology -', 'Ericsson -', 'Unilever PLC -',\n",
       "       'Pentavalue -', 'Httpool -', 'White & Case LLP -', 'Dragon Oil -',\n",
       "       'Concentrix Catalyst -', 'Haleon -', 'BASF -',\n",
       "       'DHL International GmbH -', 'The Knowledge Hub Universities -',\n",
       "       'Beetleware -', 'GE Hitachi Nuclear Energy -',\n",
       "       'Electrolux Group -', 'NicheHR Global -', 'DXC Technology -',\n",
       "       'Shift EV -', 'Ashoka -', 'HSBC -', 'Unilever -',\n",
       "       'GatedTalent - Connecting Top Executive Search Firms And Executives -',\n",
       "       'Winged Recruitment -', 'CIT VERICASH -', 'Axa Egypt -',\n",
       "       'James Douglas -', 'GE Vernova -', 'Reckitt Benckiser -',\n",
       "       'Marriott International -', 'Dabur India Ltd -',\n",
       "       'Tawzef for Recruitment and HR Consultancy -', 'Ookla group -',\n",
       "       'ZiffDavis, LLC -', 'Mendel.ai -', 'MOI, Inc. -',\n",
       "       'Prime Video & Amazon Studios -', 'Uber -', 'Amazon Group -',\n",
       "       'Project Growth -', 'Zeal -', 'Mills Fleet Farm -', 'Skill Farm -',\n",
       "       'Marine and Engineering Services Company - MESCO -',\n",
       "       'Grifols Egypt for Plasma Derivatives (GEPD) -', 'UPGRADE -',\n",
       "       '_VOIS -', 'Transmar -', 'Orange - Other locations -', 'IWG plc -',\n",
       "       'The Pillar Law Firm -', 'CVEEEZ -', 'CID Consulting -',\n",
       "       'EgyProperty -', 'Amgen -', 'Private sector -',\n",
       "       'Mondelez International -', 'M-KOPA -', '500 Global -',\n",
       "       'Kayan Group - EG -', 'United Nations -',\n",
       "       'UNHCR, the UN Refugee Agency -',\n",
       "       'Precision Accounting Intl LLC -', 'Ingram Micro -',\n",
       "       'United Nations Volunteers (UNV) programme -', 'geidea -',\n",
       "       'Apache Corporation -', 'Thales e-Security, Inc. -',\n",
       "       'Discovery Tours Egypt -', 'Talent Disruptors -', 'Maids.cc -',\n",
       "       'Gama Construction -', 'Nalco Water, An Ecolab Company -',\n",
       "       'Novartis -', 'McKinsey & Company -', 'Valeo -',\n",
       "       'JTI (Japan Tobacco International) -', 'Truelancer.com -',\n",
       "       'Guardian Industries -', 'Genpact -', 'Sprint Logistics -',\n",
       "       'Rapiscan Systems -', 'Human Resources M.E. -', 'IBM WTC Egypt -',\n",
       "       'First For Trading and Distribution -',\n",
       "       'United Nations Volunteers -', 'Hyatt Hotels Corporation -',\n",
       "       'ACCA Careers -', 'Hyatt Centric -',\n",
       "       'Workforce Development Solutions -', 'Procter & Gamble -',\n",
       "       'PyramidBITS Business IT Support -', 'Dubizzle -',\n",
       "       'Antal International - Egypt -', 'VxLabs GmbH -', 'CARMA -',\n",
       "       'Honeywell -', 'GE Renewable Energy -', 'dubizzle Egypt -',\n",
       "       'Thales -', 'Enjaz Consultancy & Enterprise Management -',\n",
       "       'Delivery Hero -', 'DNV -', 'Advansys -', 'Cartlow -',\n",
       "       'Majed el Futtiam -', 'Lesaffre -', 'Microsoft -',\n",
       "       'KT - Kinetics Technology -', 'DillX -', 'myGwork -', 'DANONE -',\n",
       "       'CRIF -', 'Nawy Company -', 'Commercial International Group -',\n",
       "       'Heineken -', 'Boxmore Packaging -', 'Laoret -',\n",
       "       'Beckman Coulter Diagnostics -',\n",
       "       'NielsenIQ Connect Partner Network -', 'QIMA -', 'Adree -',\n",
       "       'ALPLA -', 'YARDEX -', 'Ennismore -', 'Abgad أبجد -',\n",
       "       'World Health Organization -', 'illa -', 'Eaton -',\n",
       "       'ALPLA Group -', 'BADRI Management Consultancy -',\n",
       "       'Creative Associates International -', 'Savills Middle East -',\n",
       "       'Abt Global -', 'Raya Holding for Financial Investments -',\n",
       "       'Dawli -', 'DHL -', 'Klivvr -', 'Kantar -',\n",
       "       'Grifols Canada Therapeutics Inc -',\n",
       "       'SGS Société Générale de Surveillance SA -', 'Dsquares -',\n",
       "       'Janssen Pharmaceuticals, Inc. -', 'Amazon MENA -',\n",
       "       'Deutsche Bahn -', 'SC Johnson -', 'Darkroom -',\n",
       "       'Tech Integrated Services -', 'IDSCCC -', 'General Motors -',\n",
       "       'General Motors Africa & Middle East -',\n",
       "       'Abdul Latif Jameel Poverty Action Lab (J-PAL) -',\n",
       "       'International Organization for Migration -', 'ElsewedyElectric -',\n",
       "       'Johnson & Johnson -', 'bp -', 'Voltalia -', 'Hitachi Energy -',\n",
       "       'Education Development Center Inc. -', 'Blackstone eIT -',\n",
       "       'Clarivate -', 'Procter & Gamble Company -', 'VEOLIA -',\n",
       "       'KnowledgeNet -', 'TIS -',\n",
       "       'TIS (Tech for Integrated Services) by EXA -', 'Beyond Limits -',\n",
       "       'Kama Manufacturing -', 'MOG Group -', 'MixTender Beverages -',\n",
       "       'Fine Hygienic Holding -', 'Zeina Group -',\n",
       "       'Egyptian Engineering Industries   -',\n",
       "       'MYMSA FOR AGENCIES AND TRADE  -', 'Orient Egypt -',\n",
       "       'Dar Al-Fouad Hospital -', 'Medecins Sans Frontieres -',\n",
       "       'Asfour Crystal -', 'Concrete For Readymade Garments -',\n",
       "       'al-massagroup -', 'Pharco Corporation -',\n",
       "       'Balance for hvac balancing -', 'Dash design studio -', 'LMS -',\n",
       "       'AlSarh/Marble Art for Natural Stone Contracting -', 'realme -',\n",
       "       'Dakkaken -', 'Paymint -', 'Premium Card -', '3D Diagnostix -',\n",
       "       'Riadco 2000 -', 'Splash Egypt -', 'Abnaa-Ammam -',\n",
       "       'Raissyon for Engineering & Technology  -', 'EPFA -',\n",
       "       'Inner Track -', 'Pyramisa -', 'Joy & Learn Egypt -',\n",
       "       'Fajr Center -', 'Global Design Group -', 'LG Electronics -',\n",
       "       'Chubb life Insurance -', 'LinkMisr -',\n",
       "       'RAQMU for Building and Construction -', 'TechJump -',\n",
       "       'Square Engineering Firm -', 'Influence Communication -',\n",
       "       'Human Quality -', 'Ejada  -', 'Vision 22 Advertising Agency -',\n",
       "       'Alsabbahi for investment & development  -', 'Lucid Training -',\n",
       "       'Food Lover for Trade and Food Industries. -',\n",
       "       'Almasrya for Contracting, Management & Maintenance -',\n",
       "       'The Address Investments for Real Estate Consultancy -',\n",
       "       'Nano Shield -', 'LotusTex -', 'Amreyah Cement -', 'Aqarmap.com -',\n",
       "       'Shop Seif -', 'Groupe- Atlantic -', 'Firoz Group -', 'CPAS -',\n",
       "       'Egypt Teda -', 'Mazloum Real Estate -', 'CompuGeorge -',\n",
       "       'ElBoghdadeyah Group  -', ' Circle K -', 'levoile Stores -',\n",
       "       'MediNeeds -', 'AL-Toukhy -', 'Darna Developments  -',\n",
       "       'Value Tech  -', 'Aquarabia -', 'GB Corp -', 'Olam SVI -', 'GMC -',\n",
       "       'Informatique Education -', 'Zeta Pharma -', 'Taager -',\n",
       "       'Petrological Integrated Solutions -',\n",
       "       'Emak Contracting Company - Kharafi Group  -', \"King's Home -\",\n",
       "       'Smart Light -',\n",
       "       'Al Omaraa Group for Ceramic and Porcelain Production -',\n",
       "       'iproperties -',\n",
       "       'Prometeon Tyres Group – Egypt  (Ex-Pirelli Tyres Egypt) -',\n",
       "       'Egypt Otsuka -', 'British University of Egypt -', 'dynamics -',\n",
       "       'Ahram Security Group -', 'Pro Light Egypt -',\n",
       "       'Namaa Alkhaleej  -', 'Smart Line -',\n",
       "       'etisal for advanced industries  -', 'Nerhadou International -',\n",
       "       'Do Outsource -', 'Orchtech -', 'ITALTECH -',\n",
       "       'Deskiy Office Furniture -', 'The WaterWay Developments  -',\n",
       "       'Muqbis  -', 'K Line Europe -', 'Aluone Aluminium construction  -',\n",
       "       'Marketopia Programming and Marketing   -', 'Capital Guard -',\n",
       "       'ACMA for Chemicals and Mining  -', 'Arabian Cement Company -',\n",
       "       'System Technique -', 'الديار -', 'Economic Group  -', 'ESC -',\n",
       "       'Brokers Master  -', 'Integrated Technology Group -', 'Asass -',\n",
       "       'Prometey -', 'BariQ -', 'Zumra Food -', 'ICIS -',\n",
       "       'Aqar Land Real Estate consultant -', 'Logistica -',\n",
       "       'Smart for engineering and contracting -', 'Yakan -', 'EAST  -',\n",
       "       'New Generation Developments -', 'Bainona Engineering Company  -',\n",
       "       'Obsession Boutique  -', 'Construction Management Systems -',\n",
       "       'Ecomaster -', 'TRAVCO GROUP -', 'Remax Home Masters  -',\n",
       "       'Loulia FM & Constructions  -', 'Ahmed Osman-Archi-Arts -',\n",
       "       'Powertec -', 'Ixina Kitchens -', 'Beyond Insurance Brokerage -',\n",
       "       'Hunt Wilson for Garments Export -',\n",
       "       'Alpha Matar Co. For Elevators & Escalators  -', 'Kgroup -',\n",
       "       'Blade solutions -', 'Sigma Engineering -', 'FlexFilms Egypt -',\n",
       "       'El Banna Group Company -', 'Al-Freeh -', 'Rofaida -',\n",
       "       'New Plan  -', 'Teradix -', 'Capital Link Developments -',\n",
       "       'OTO Courses -', 'Saudi German Hospital  -',\n",
       "       'Eskimo For Engineering & International Trade -',\n",
       "       'Egyptian Co. For Engineering Equipment -', 'Game-Lang -',\n",
       "       'indesign -', 'Audio Technology -', 'RMS -',\n",
       "       'Samaya Electronics Egypt LTD -', 'Jade Textile Egypt -',\n",
       "       'Corpotrade -', 'Hueck Egypt -', 'Intelcia  -', 'RUSHBRUSH INC -',\n",
       "       'Mobco Civil Construction -', 'Link International -',\n",
       "       'Intelligent Solutions  -', 'COLORS -',\n",
       "       'Construction & Design Co. SAE -', 'Arias Egypt  -',\n",
       "       'WITHIN EARTH HOLIDAYS -', 'Bioneer Engineering Egypt(ENTR)  -',\n",
       "       'Nile University -', 'Aswaq -', 'Food Basket Egypt -',\n",
       "       'Maison de Maa -', 'Deutschland Technology Limited -',\n",
       "       'valves engineering company -', 'ASUS -', 'Arma Non Food -',\n",
       "       'Concentrix + Webhelp -', 'Mediterraneo Trading -',\n",
       "       'Impact for Learning & Development -', 'Duravit AG -',\n",
       "       'Naguib Selim -', 'High Art -', 'Al Janobi Co. For Contracting -',\n",
       "       'Itechs Group -', 'JAC -', 'La Hacienda  -', 'Dynamicslink -',\n",
       "       'IN YOUR SHOE -', 'StreetScan -', 'Link-Masr -',\n",
       "       'Marmonil Marble & Granite -', 'Urban Estate -',\n",
       "       'Bakeland Egypt  -', 'Kaian Textiles -', 'Kasrawy Group -',\n",
       "       'Homes Couture  -', 'BDO Esnad -', 'quTIP -',\n",
       "       'Matrix Engineering -', 'Creative Media Prouctions -',\n",
       "       'Zoomlion -', 'Octane solutions  -', 'Horeca Star -',\n",
       "       'Quantum Automatic Systems -', 'Some Skin Care  -', 'Veexia -',\n",
       "       'Dreem Mashreq Foods  -', 'MOSTASHAR -',\n",
       "       'International Committee of Red Cross -',\n",
       "       'Zamil Steel Buildings Co -', ' Roaya -', 'AlMehwar Hospital -',\n",
       "       'Alex form -', 'ثقة الانجاز wtheq -', 'ARPUPLUS -',\n",
       "       'G.World for Management -', 'Naqla -', 'Roots -', 'CAMMA Egypt -',\n",
       "       '4level1 -', 'May University in Cairo -', 'EGY TRADE -',\n",
       "       ' Saudisoft -', 'CSCEC International Facade Egypt Co Ltd -',\n",
       "       'myGINNE -', 'akar town -', 'GetSircles Digital Agency -',\n",
       "       'EnerDyn Global Company -', 'Heka - The wellness Hub -',\n",
       "       'Callvita -', 'MG Developments -',\n",
       "       'Samcrete Engineers & contractors -', 'Frozena Foods -',\n",
       "       'Fastbuy Trading LLC -', 'BI-Technologies -', 'Foto Express -',\n",
       "       'NewTech Company -', 'Al Watania Poultry -', 'AluNile -',\n",
       "       'websolla -', 'Eagle Chemicals -', 'Dardery Glass -', 'Khales -',\n",
       "       'Yes Pac -', 'Finding From Egy  -', 'Guardian towing -',\n",
       "       'Fintech Media -', 'Golden Developer -',\n",
       "       'Castle For Engineering Industries  -',\n",
       "       'Network International -Egypt -', 'ITAC -', 'Velosit Egypt -',\n",
       "       'EcoConServ -', 'LVLS Construction Company -', 'Sylndr -',\n",
       "       'Options -', 'DREXEL oilfield Equipment -', 'Cashcall -',\n",
       "       'Abela Egypt -', 'Al fawzy dental -', 'Alriada -', 'Mobica -',\n",
       "       'Sierra Engineering & Manufacturing -', 'Refilex -',\n",
       "       'Total Energies -', 'Softxpert Incorporation  -', 'Hijazim -',\n",
       "       'kabbany for hydraulic systems and home lifts -',\n",
       "       'Dm Cloud Advertising agency -', 'Bright Real Estate -',\n",
       "       'Samman  Engineering & Consulting -', 'Modad properties -',\n",
       "       'Our Education -', 'OTI ESTATE -', 'Al Saqr Steel -',\n",
       "       'DIRAC SYSTEMS -', 'Measuresoft oil and gas Services    -',\n",
       "       'Atum Egypt -', 'EISAS -', 'IDS PLATFORM -', 'Bioskin Spa -',\n",
       "       'INTERPAC -', 'iskan -', 'Class A Trading & Agencies -',\n",
       "       'Mazzika Group -', 'Shatta -', 'Infracon -', 'Trustcom -'],\n",
       "      dtype=object)"
      ]
     },
     "execution_count": 56,
     "metadata": {},
     "output_type": "execute_result"
    }
   ],
   "source": [
    "data['Company name'].unique()"
   ]
  },
  {
   "cell_type": "code",
   "execution_count": 57,
   "id": "696dd1d5-f347-4e81-9af3-59a250e683f3",
   "metadata": {},
   "outputs": [],
   "source": [
    "def remove_extrawords(company_name):\n",
    "    return company_name.split(\" -\")[0]\n",
    "\n",
    "data['Company name'] = data['Company name'].apply(remove_extrawords)"
   ]
  },
  {
   "cell_type": "code",
   "execution_count": 58,
   "id": "55df0f1c-8e3b-47dc-b6ad-908feeda6188",
   "metadata": {},
   "outputs": [
    {
     "data": {
      "text/plain": [
       "array(['Safa Soft', 'Confidential', 'Mafad Contracting Company  ',\n",
       "       'Cleopatra Hospitals Group', 'EpsilonAI', 'Ibn Sina Pharma',\n",
       "       'Bydotpy', 'شركه طنطا موتورز', 'Al monairy', 'Vision Cosmetics',\n",
       "       'Global Napi Pharmaceuticals', 'Infinity Clinic Pharma',\n",
       "       'Fawry Microfinance ', 'Healthy & Tasty', 'MINISO LIFE',\n",
       "       'Arma-HSA', 'Lumin', 'MTI', 'Bloommena Advertising company',\n",
       "       'Teqneia', 'ITSP Group', 'Target Recruitment  & HR Solutions ',\n",
       "       'Rotabiogen', 'Anchor Consultancy', 'Atlantis Egypt Tours',\n",
       "       'Alouf Travel', 'Saveto', \"Happy Joe's Pizza & Ice Cream\",\n",
       "       'Greater Cairo Foundries Co. S.A.E', 'World Trip Deal ',\n",
       "       'OPPO Egypt ', 'Eg Insurtech', 'Partners Outsourcing Solutions',\n",
       "       'A-part Auto', 'EGEC', 'Ryze Clubs ', 'Leeds', 'Almosafer',\n",
       "       'CeberNet', 'International Food & Consumable Goods',\n",
       "       'ELDAYEL FOR LEATHER INDUSTRY ', 'oworkers',\n",
       "       'EDECS El Dawlia for Engineering & Contracting', 'ZINAD IT',\n",
       "       'Digital Path ', 'MMA accounting office',\n",
       "       'Gahez Digital Marketing', 'Talaat Moustafa Group',\n",
       "       'My Truck Logistics, LLC  ', 'ElMehy Engineering Company',\n",
       "       'Egyptian Abrasives Co.', 'Sutherland', 'Powergreen', 'Allianz',\n",
       "       'ESLSCA University', 'IQRA Network', 'ABCO Group ',\n",
       "       'Fawry for Banking Technology and Electronic Payments S.A.E',\n",
       "       'mazenet solution ', 'Link Datacenter', 'NEW GCC GROUP LIMITLESS ',\n",
       "       'Softec Technologies',\n",
       "       'Arabian Monayri for Industry, Shipping & Trade',\n",
       "       'Selah ElTelmeez For Publishing & printing', 'Union Group',\n",
       "       'Atrium Egypt', 'Nahdet Misr Publishing Group',\n",
       "       'El Mohandess Print House', 'Paymob Solutions', 'Engosoft',\n",
       "       'Archi Touch', 'COLAS RAIL Egypt', 'Wadi Tours', 'ECO Fab Egypt',\n",
       "       'Alwadi Holding', 'Podium', 'Bubblzz', 'Saint-Gobain',\n",
       "       'A&M INTERNATIONAL FOR ENGINEERING WORKS ',\n",
       "       'National Electricity Technology Co.', 'MAC EGYPT REAL ESTATE CO.',\n",
       "       'Capital One holding for investment', 'TECTRA', 'Injaz Digital ',\n",
       "       'Tamweely', 'Midea Group', 'Seoudi Supermarket', 'Good Seed',\n",
       "       'Sahara Printing Company', 'EgyptExpress', 'SIPES',\n",
       "       'Eco associates', 'Atlas Investment & Food Industries',\n",
       "       'ICON Holding', 'Misr Elkheir Foundation',\n",
       "       'Rashideen Egypt for Trade ', 'Bevatel', 'English Zone',\n",
       "       'Aldawlia For Plastic Materials', 'Monoplay',\n",
       "       'City Master Group Developments', 'Sinai University',\n",
       "       'North point', 'Aman', 'aipt&t Egypt', 'Solotex', 'Sanad Farms  ',\n",
       "       'Hebeish Group', 'Swiss Garment Company', 'Sharm Dreams Group ',\n",
       "       'Orthomed E', 'BioEnergy', 'Industrial Services Center',\n",
       "       'Lecico Egypt', 'Tradeline Stores', 'Raafat Miller Consulting',\n",
       "       'The Translation Gate', 'American Aligners', 'Yodawy Med',\n",
       "       'شركة تيكون للتجارة الدولية', 'Al-Raeda for Construction ',\n",
       "       'Arafa Retail Group', 'Nile Projects & Trading',\n",
       "       'GT World OF Beauty', 'MBG', 'NMDC', 'AlGammal Contracting',\n",
       "       'Raya Distribution', 'Azza Fahmy Jewellery', 'Chloride',\n",
       "       'IT Pillars', 'Safoury Development  ',\n",
       "       'Kellogg Tolaram Noodles Egypt LLC', 'ALWAN AL ALBARQ ', 'Menard',\n",
       "       'Memaar Alashraaf', 'T&D Design', 'Better Home', 'Nacita',\n",
       "       'Cairo Three A Poultry', 'Massoud Steel', 'Sulfah',\n",
       "       'Wadi El Nile Cement', 'Orchidia Pharmaceutical Industries',\n",
       "       'Delta Capital for Urban Development',\n",
       "       'Ayoun Masr Co For Tourism Development', 'Hamza Group',\n",
       "       'El Abd Group',\n",
       "       'The Micro, Small & Medium Enterprise Development Agency ',\n",
       "       'Shifa Egypt', 'aallie software solution', 'Mido ',\n",
       "       'NOK for Human Capital Solutions',\n",
       "       'الشركة الدولية للتنمية السياحية',\n",
       "       'SHAWAHID ROADS INDUSTRIAL COMPANY  ', 'EL Masry Group', 'BHF',\n",
       "       'Shehab Mazhar', 'Smart Window', 'Tiba Egypt ',\n",
       "       'Regency For Trading and Supply', 'Dawi Clinics',\n",
       "       'Easy Group For Health and Beauty Care',\n",
       "       'Gulf Data International ', 'Intercap Capital ', 'alfanar',\n",
       "       'Bakier', 'Smile Makers ', 'Interact Technology Solutions',\n",
       "       'SERA Mattress & Furniture ', 'Zewail City',\n",
       "       'Delta Egypt For Lighting ', ' AB & Associates', 'EMpower',\n",
       "       'KALINE COSMETICS ', 'Xervon Egypt ', 'qTech. ', 'BBI-Consultancy',\n",
       "       'Nexus Analytica', 'Digizilla', 'Forward Contractors-Real Estate',\n",
       "       'Juma Hub ', 'Bayt El Khebra', 'Sasco Group', 'Sykes Enterprises',\n",
       "       'Grand Plast ', 'CRIF EGYPT', 'TMA For Industrial Supplies',\n",
       "       'PGQ Group ', 'evocx work space  ', 'Alex international Company',\n",
       "       'Haier Electric Egypt ', 'El sewedy Trading ', 'Cherry and Berry',\n",
       "       'Basco Engineering &Trading', 'Froneri', 'Giza Power Industury',\n",
       "       'Seldar Egypt', 'ITIDA', 'IT PLICITY',\n",
       "       'capital elite developments', 'El Teriak Industrial Group',\n",
       "       'Jaffangroup', 'Boutiqaat', 'Global For Elevators and Esclators',\n",
       "       'Rb consulting and training services Co.', 'Napata',\n",
       "       'Ultimate Solutions Egypt', 'Reliance Egypt', 'Ghandour Auto',\n",
       "       'Horizon Chemical for Special Chemicals ', 'Skywalk Developments',\n",
       "       'Sphinx Glass', 'Trufla', 'Al_Montaha', 'Karcel', 'Kandeel Group',\n",
       "       'Kode Clubs', \"King's School The Crown\", 'Delta Medical Egypt',\n",
       "       'Falcon data and business solutions', 'IBIC Group',\n",
       "       'Perfect Spinning', 'Mantrac', 'Al-Amal Al-sharif For Plastic',\n",
       "       'IRSC', 'Wham Clinics ', 'Global conveyor technology',\n",
       "       'Gila Electric', 'شركة ناصر الكنهل للاستشارات المحاسبية-keep',\n",
       "       'Arpu Telecommunication Services', 'Marbella For Food Industry ',\n",
       "       'Mahmoud Electric', 'Hands of Hope Physical Therapy & Wellness',\n",
       "       'GlassQbe ', 'Envision Employment Solutions', 'LBH Egypt',\n",
       "       'الناجح للخدمات والاستشارات التعليمية والطلابية', 'Jamjoom Pharma',\n",
       "       'Sequel Solutions', 'Power Solutions', 'Agazat Masr', 'Tecnogroup',\n",
       "       'Rockal', 'Al Ahly Medical Company', 'Kandil Industries',\n",
       "       'MB for Engineering', 'Egypt Gold ', 'Sanad Books',\n",
       "       'Meem Development', 'Casita', 'MTS', 'balkan for food industrie',\n",
       "       'Onecard', 'BTC-Egypt Gold', 'Syad Tech', 'Lilly home ',\n",
       "       'MAJ Consulting Group', 'Taheal', 'Egyptian Company for Cosmetics',\n",
       "       'Titan Cement Egypt ', 'Ebakr', 'Global Advanced Systems', 'Hayat',\n",
       "       'Protection', 'Octopus Outsourcing ',\n",
       "       'Elwan For Ceramic and Porcelain', 'GES', 'Elabd Foods',\n",
       "       'Turbo Egypt Compression', 'Bold Brand', 'Voxelway', 'PC',\n",
       "       'makaremtex', 'APEX Pharma', 'GlassRock Insulation Co.',\n",
       "       'PMaestro', 'FlapKap', 'Afaqy', 'Mobi Egypt', 'Rameda',\n",
       "       'Smart GYM', 'Ramtrade', 'Tripathon', 'Argaam',\n",
       "       'Elsaba AutoService', 'Spectrum Groupe', 'Alarabia Group',\n",
       "       'Rowad Modern Engineering',\n",
       "       'Aga Khan Cultural services- Egypt (AKCS-E)',\n",
       "       'African Queen Travel ', 'GET Group- Egypt', 'Breadfast',\n",
       "       'La Poire', 'Bouri Group', 'Happy Vision',\n",
       "       'Egyptian Starch and Glucose  Manufacturing Company',\n",
       "       '365 Ecology', 'Emeco Travel ', 'Golden Tours',\n",
       "       'Allamna Integrated Solutions', 'A.T Lease Egypt',\n",
       "       'Atco Pharma For Pharmaceutical Industries', 'Elsewedy industries',\n",
       "       'Akhnaton for Trading & Distributing ', 'Abu Gemeaa',\n",
       "       'Knowledge Bi', 'Expert Apps', 'Cairoscan',\n",
       "       'Qawafil For Real Estate Investment', 'Danat Travels ',\n",
       "       'KIG Konnice', 'Royal Herbs ', 'National Paints',\n",
       "       'Tarek Trade Furniture ', 'El Nasr Group', 'Miracle-On',\n",
       "       'Hala Consulting ', 'Statements Consulting', 'Forest Line', 'EFS',\n",
       "       'Floortec', 'EGYGAB Developments', 'GEMS Education', 'Osolutions',\n",
       "       'Algoriza', 'Vndro.com', 'Abaza Sports Group', 'National holding',\n",
       "       'LINK Development', 'DME Holding',\n",
       "       'Ascon Advanced Solutions & Consultant', 'Elaraby Group',\n",
       "       'Masry for Engineering & trading', 'onyx consulting ', 'Outlook',\n",
       "       'Karnak Group', 'Mezyan Development', 'Valeurs ',\n",
       "       'Nour Eldin Elsherif for Trading vehicles', 'ariika',\n",
       "       'Outservingplus', 'Sea Port for Trading and Engineering',\n",
       "       'classera', 'Cubic', 'Premier Services and Recruitment Overseas ',\n",
       "       'Misr Elhegaz Group', 'Sinamix', 'Youxel',\n",
       "       'EMECO General Contracting Co.', 'IT Valley',\n",
       "       'Arabia for Information Technology',\n",
       "       'Asfour for Mining and Refractories', 'Wood Equipment Co ',\n",
       "       'Tawzef', 'Windrose Academy', 'Global Brands',\n",
       "       'https://www.orion-eg.com/', 'JoviTronix ', 'Air Arabia',\n",
       "       'Raghaeb for managing restaurants (ABU TAREK KUSHARI)',\n",
       "       'S W Group for Trading Agencies ', 'Multicare', 'germanstandrd',\n",
       "       'KEC- IDENTITY FOR ENGENERING', 'Transmar International ',\n",
       "       'Gazelle Trade', 'ARC Technologies', 'Mersal ',\n",
       "       'IT Systems Corporation', 'ECOVIS Elkadeem & Co. Consultancy',\n",
       "       \"Tam's shoe maker\", 'Antifat Company', 'Egypt Best Properties',\n",
       "       'Ostool Transport', 'MENA INTEL', 'Art Food', 'Orbit tech. ',\n",
       "       'Sun Pyramids Tours', 'branspect', 'Etisal EG', 'B.TECH',\n",
       "       'Medval Health Care', 'Cairo Transport & Touring ', 'Tagaddod',\n",
       "       'Coca-Cola HBC', 'Al-Mansour Automotive', 'Khazna Tech',\n",
       "       'Al-Futtaim Health', 'Jadeer', 'Ring', 'Deloitte', 'Amgen Italia',\n",
       "       'EIT-Hub', 'Capgemini', 'ROBUSTA', 'Homzmart',\n",
       "       'IHG Hotels & Resorts', 'Rekrut by Talent 360', 'kapa.ai',\n",
       "       'RATP Dev Mobility Cairo', 'The Professionals', 'Magrabi Retail',\n",
       "       'Albostany for real estate', 'IFC', 'MAGRABi Retail Group',\n",
       "       'Solenis', 'Tawzef for Recruitment & HR Consultancy', 'iSchool',\n",
       "       'iHorizons', 'SupportFinity™', 'Pfizer', 'Pfizer Deutschland GmbH',\n",
       "       'Nawy Real Estate', 'FAO', 'Hikma Pharmaceuticals PLC', 'Flextock',\n",
       "       'MaxAB', 'TLScontact', 'CWT Meetings & Events',\n",
       "       'Plan International', 'Hikma Pharmaceuticals', 'MediaMonks',\n",
       "       'Squadio', 'Rashideen Egypt for Trade Company',\n",
       "       'Japan Tobacco International', 'LikeCard',\n",
       "       'Save the Children International', 'IQVIA Inc', 'Givaudan',\n",
       "       'Pepsi', 'Al Ahram Beverages Company', 'learnatnoon.com',\n",
       "       'Raya Trade & Distribution', 'Egybell', 'Schneider Electric',\n",
       "       'DAR ENGINEERING', 'Turing', 'dentsu', 'DXC.technology',\n",
       "       'Ericsson', 'Unilever PLC', 'Pentavalue', 'Httpool',\n",
       "       'White & Case LLP', 'Dragon Oil', 'Concentrix Catalyst', 'Haleon',\n",
       "       'BASF', 'DHL International GmbH', 'The Knowledge Hub Universities',\n",
       "       'Beetleware', 'GE Hitachi Nuclear Energy', 'Electrolux Group',\n",
       "       'NicheHR Global', 'DXC Technology', 'Shift EV', 'Ashoka', 'HSBC',\n",
       "       'Unilever', 'GatedTalent', 'Winged Recruitment', 'CIT VERICASH',\n",
       "       'Axa Egypt', 'James Douglas', 'GE Vernova', 'Reckitt Benckiser',\n",
       "       'Marriott International', 'Dabur India Ltd',\n",
       "       'Tawzef for Recruitment and HR Consultancy', 'Ookla group',\n",
       "       'ZiffDavis, LLC', 'Mendel.ai', 'MOI, Inc.',\n",
       "       'Prime Video & Amazon Studios', 'Uber', 'Amazon Group',\n",
       "       'Project Growth', 'Zeal', 'Mills Fleet Farm', 'Skill Farm',\n",
       "       'Marine and Engineering Services Company',\n",
       "       'Grifols Egypt for Plasma Derivatives (GEPD)', 'UPGRADE', '_VOIS',\n",
       "       'Transmar', 'Orange', 'IWG plc', 'The Pillar Law Firm', 'CVEEEZ',\n",
       "       'CID Consulting', 'EgyProperty', 'Amgen', 'Private sector',\n",
       "       'Mondelez International', 'M-KOPA', '500 Global', 'Kayan Group',\n",
       "       'United Nations', 'UNHCR, the UN Refugee Agency',\n",
       "       'Precision Accounting Intl LLC', 'Ingram Micro',\n",
       "       'United Nations Volunteers (UNV) programme', 'geidea',\n",
       "       'Apache Corporation', 'Thales e-Security, Inc.',\n",
       "       'Discovery Tours Egypt', 'Talent Disruptors', 'Maids.cc',\n",
       "       'Gama Construction', 'Nalco Water, An Ecolab Company', 'Novartis',\n",
       "       'McKinsey & Company', 'Valeo', 'JTI (Japan Tobacco International)',\n",
       "       'Truelancer.com', 'Guardian Industries', 'Genpact',\n",
       "       'Sprint Logistics', 'Rapiscan Systems', 'Human Resources M.E.',\n",
       "       'IBM WTC Egypt', 'First For Trading and Distribution',\n",
       "       'United Nations Volunteers', 'Hyatt Hotels Corporation',\n",
       "       'ACCA Careers', 'Hyatt Centric', 'Workforce Development Solutions',\n",
       "       'Procter & Gamble', 'PyramidBITS Business IT Support', 'Dubizzle',\n",
       "       'Antal International', 'VxLabs GmbH', 'CARMA', 'Honeywell',\n",
       "       'GE Renewable Energy', 'dubizzle Egypt', 'Thales',\n",
       "       'Enjaz Consultancy & Enterprise Management', 'Delivery Hero',\n",
       "       'DNV', 'Advansys', 'Cartlow', 'Majed el Futtiam', 'Lesaffre',\n",
       "       'Microsoft', 'KT', 'DillX', 'myGwork', 'DANONE', 'CRIF',\n",
       "       'Nawy Company', 'Commercial International Group', 'Heineken',\n",
       "       'Boxmore Packaging', 'Laoret', 'Beckman Coulter Diagnostics',\n",
       "       'NielsenIQ Connect Partner Network', 'QIMA', 'Adree', 'ALPLA',\n",
       "       'YARDEX', 'Ennismore', 'Abgad أبجد', 'World Health Organization',\n",
       "       'illa', 'Eaton', 'ALPLA Group', 'BADRI Management Consultancy',\n",
       "       'Creative Associates International', 'Savills Middle East',\n",
       "       'Abt Global', 'Raya Holding for Financial Investments', 'Dawli',\n",
       "       'DHL', 'Klivvr', 'Kantar', 'Grifols Canada Therapeutics Inc',\n",
       "       'SGS Société Générale de Surveillance SA', 'Dsquares',\n",
       "       'Janssen Pharmaceuticals, Inc.', 'Amazon MENA', 'Deutsche Bahn',\n",
       "       'SC Johnson', 'Darkroom', 'Tech Integrated Services', 'IDSCCC',\n",
       "       'General Motors', 'General Motors Africa & Middle East',\n",
       "       'Abdul Latif Jameel Poverty Action Lab (J-PAL)',\n",
       "       'International Organization for Migration', 'ElsewedyElectric',\n",
       "       'Johnson & Johnson', 'bp', 'Voltalia', 'Hitachi Energy',\n",
       "       'Education Development Center Inc.', 'Blackstone eIT', 'Clarivate',\n",
       "       'Procter & Gamble Company', 'VEOLIA', 'KnowledgeNet', 'TIS',\n",
       "       'TIS (Tech for Integrated Services) by EXA', 'Beyond Limits',\n",
       "       'Kama Manufacturing', 'MOG Group', 'MixTender Beverages',\n",
       "       'Fine Hygienic Holding', 'Zeina Group',\n",
       "       'Egyptian Engineering Industries  ',\n",
       "       'MYMSA FOR AGENCIES AND TRADE ', 'Orient Egypt',\n",
       "       'Dar Al-Fouad Hospital', 'Medecins Sans Frontieres',\n",
       "       'Asfour Crystal', 'Concrete For Readymade Garments',\n",
       "       'al-massagroup', 'Pharco Corporation',\n",
       "       'Balance for hvac balancing', 'Dash design studio', 'LMS',\n",
       "       'AlSarh/Marble Art for Natural Stone Contracting', 'realme',\n",
       "       'Dakkaken', 'Paymint', 'Premium Card', '3D Diagnostix',\n",
       "       'Riadco 2000', 'Splash Egypt', 'Abnaa-Ammam',\n",
       "       'Raissyon for Engineering & Technology ', 'EPFA', 'Inner Track',\n",
       "       'Pyramisa', 'Joy & Learn Egypt', 'Fajr Center',\n",
       "       'Global Design Group', 'LG Electronics', 'Chubb life Insurance',\n",
       "       'LinkMisr', 'RAQMU for Building and Construction', 'TechJump',\n",
       "       'Square Engineering Firm', 'Influence Communication',\n",
       "       'Human Quality', 'Ejada ', 'Vision 22 Advertising Agency',\n",
       "       'Alsabbahi for investment & development ', 'Lucid Training',\n",
       "       'Food Lover for Trade and Food Industries.',\n",
       "       'Almasrya for Contracting, Management & Maintenance',\n",
       "       'The Address Investments for Real Estate Consultancy',\n",
       "       'Nano Shield', 'LotusTex', 'Amreyah Cement', 'Aqarmap.com',\n",
       "       'Shop Seif', 'Groupe- Atlantic', 'Firoz Group', 'CPAS',\n",
       "       'Egypt Teda', 'Mazloum Real Estate', 'CompuGeorge',\n",
       "       'ElBoghdadeyah Group ', ' Circle K', 'levoile Stores', 'MediNeeds',\n",
       "       'AL-Toukhy', 'Darna Developments ', 'Value Tech ', 'Aquarabia',\n",
       "       'GB Corp', 'Olam SVI', 'GMC', 'Informatique Education',\n",
       "       'Zeta Pharma', 'Taager', 'Petrological Integrated Solutions',\n",
       "       'Emak Contracting Company', \"King's Home\", 'Smart Light',\n",
       "       'Al Omaraa Group for Ceramic and Porcelain Production',\n",
       "       'iproperties',\n",
       "       'Prometeon Tyres Group – Egypt  (Ex-Pirelli Tyres Egypt)',\n",
       "       'Egypt Otsuka', 'British University of Egypt', 'dynamics',\n",
       "       'Ahram Security Group', 'Pro Light Egypt', 'Namaa Alkhaleej ',\n",
       "       'Smart Line', 'etisal for advanced industries ',\n",
       "       'Nerhadou International', 'Do Outsource', 'Orchtech', 'ITALTECH',\n",
       "       'Deskiy Office Furniture', 'The WaterWay Developments ', 'Muqbis ',\n",
       "       'K Line Europe', 'Aluone Aluminium construction ',\n",
       "       'Marketopia Programming and Marketing  ', 'Capital Guard',\n",
       "       'ACMA for Chemicals and Mining ', 'Arabian Cement Company',\n",
       "       'System Technique', 'الديار', 'Economic Group ', 'ESC',\n",
       "       'Brokers Master ', 'Integrated Technology Group', 'Asass',\n",
       "       'Prometey', 'BariQ', 'Zumra Food', 'ICIS',\n",
       "       'Aqar Land Real Estate consultant', 'Logistica',\n",
       "       'Smart for engineering and contracting', 'Yakan', 'EAST ',\n",
       "       'New Generation Developments', 'Bainona Engineering Company ',\n",
       "       'Obsession Boutique ', 'Construction Management Systems',\n",
       "       'Ecomaster', 'TRAVCO GROUP', 'Remax Home Masters ',\n",
       "       'Loulia FM & Constructions ', 'Ahmed Osman-Archi-Arts', 'Powertec',\n",
       "       'Ixina Kitchens', 'Beyond Insurance Brokerage',\n",
       "       'Hunt Wilson for Garments Export',\n",
       "       'Alpha Matar Co. For Elevators & Escalators ', 'Kgroup',\n",
       "       'Blade solutions', 'Sigma Engineering', 'FlexFilms Egypt',\n",
       "       'El Banna Group Company', 'Al-Freeh', 'Rofaida', 'New Plan ',\n",
       "       'Teradix', 'Capital Link Developments', 'OTO Courses',\n",
       "       'Saudi German Hospital ',\n",
       "       'Eskimo For Engineering & International Trade',\n",
       "       'Egyptian Co. For Engineering Equipment', 'Game-Lang', 'indesign',\n",
       "       'Audio Technology', 'RMS', 'Samaya Electronics Egypt LTD',\n",
       "       'Jade Textile Egypt', 'Corpotrade', 'Hueck Egypt', 'Intelcia ',\n",
       "       'RUSHBRUSH INC', 'Mobco Civil Construction', 'Link International',\n",
       "       'Intelligent Solutions ', 'COLORS',\n",
       "       'Construction & Design Co. SAE', 'Arias Egypt ',\n",
       "       'WITHIN EARTH HOLIDAYS', 'Bioneer Engineering Egypt(ENTR) ',\n",
       "       'Nile University', 'Aswaq', 'Food Basket Egypt', 'Maison de Maa',\n",
       "       'Deutschland Technology Limited', 'valves engineering company',\n",
       "       'ASUS', 'Arma Non Food', 'Concentrix + Webhelp',\n",
       "       'Mediterraneo Trading', 'Impact for Learning & Development',\n",
       "       'Duravit AG', 'Naguib Selim', 'High Art',\n",
       "       'Al Janobi Co. For Contracting', 'Itechs Group', 'JAC',\n",
       "       'La Hacienda ', 'Dynamicslink', 'IN YOUR SHOE', 'StreetScan',\n",
       "       'Link-Masr', 'Marmonil Marble & Granite', 'Urban Estate',\n",
       "       'Bakeland Egypt ', 'Kaian Textiles', 'Kasrawy Group',\n",
       "       'Homes Couture ', 'BDO Esnad', 'quTIP', 'Matrix Engineering',\n",
       "       'Creative Media Prouctions', 'Zoomlion', 'Octane solutions ',\n",
       "       'Horeca Star', 'Quantum Automatic Systems', 'Some Skin Care ',\n",
       "       'Veexia', 'Dreem Mashreq Foods ', 'MOSTASHAR',\n",
       "       'International Committee of Red Cross', 'Zamil Steel Buildings Co',\n",
       "       ' Roaya', 'AlMehwar Hospital', 'Alex form', 'ثقة الانجاز wtheq',\n",
       "       'ARPUPLUS', 'G.World for Management', 'Naqla', 'Roots',\n",
       "       'CAMMA Egypt', '4level1', 'May University in Cairo', 'EGY TRADE',\n",
       "       ' Saudisoft', 'CSCEC International Facade Egypt Co Ltd', 'myGINNE',\n",
       "       'akar town', 'GetSircles Digital Agency', 'EnerDyn Global Company',\n",
       "       'Heka', 'Callvita', 'MG Developments',\n",
       "       'Samcrete Engineers & contractors', 'Frozena Foods',\n",
       "       'Fastbuy Trading LLC', 'BI-Technologies', 'Foto Express',\n",
       "       'NewTech Company', 'Al Watania Poultry', 'AluNile', 'websolla',\n",
       "       'Eagle Chemicals', 'Dardery Glass', 'Khales', 'Yes Pac',\n",
       "       'Finding From Egy ', 'Guardian towing', 'Fintech Media',\n",
       "       'Golden Developer', 'Castle For Engineering Industries ',\n",
       "       'Network International', 'ITAC', 'Velosit Egypt', 'EcoConServ',\n",
       "       'LVLS Construction Company', 'Sylndr', 'Options',\n",
       "       'DREXEL oilfield Equipment', 'Cashcall', 'Abela Egypt',\n",
       "       'Al fawzy dental', 'Alriada', 'Mobica',\n",
       "       'Sierra Engineering & Manufacturing', 'Refilex', 'Total Energies',\n",
       "       'Softxpert Incorporation ', 'Hijazim',\n",
       "       'kabbany for hydraulic systems and home lifts',\n",
       "       'Dm Cloud Advertising agency', 'Bright Real Estate',\n",
       "       'Samman  Engineering & Consulting', 'Modad properties',\n",
       "       'Our Education', 'OTI ESTATE', 'Al Saqr Steel', 'DIRAC SYSTEMS',\n",
       "       'Measuresoft oil and gas Services   ', 'Atum Egypt', 'EISAS',\n",
       "       'IDS PLATFORM', 'Bioskin Spa', 'INTERPAC', 'iskan',\n",
       "       'Class A Trading & Agencies', 'Mazzika Group', 'Shatta',\n",
       "       'Infracon', 'Trustcom'], dtype=object)"
      ]
     },
     "execution_count": 58,
     "metadata": {},
     "output_type": "execute_result"
    }
   ],
   "source": [
    "data['Company name'].unique()"
   ]
  },
  {
   "cell_type": "code",
   "execution_count": 59,
   "id": "b7bb816f-e12d-4867-81a3-25583256e753",
   "metadata": {},
   "outputs": [
    {
     "data": {
      "text/plain": [
       "Company name\n",
       "Confidential                                                  201\n",
       "Private sector                                                 15\n",
       "Fawry for Banking Technology and Electronic Payments S.A.E     12\n",
       "Nahdet Misr Publishing Group                                    9\n",
       "Skill Farm                                                      9\n",
       "Rekrut by Talent 360                                            8\n",
       "Seoudi Supermarket                                              7\n",
       "Turing                                                          7\n",
       "Allianz                                                         7\n",
       "Ibn Sina Pharma                                                 6\n",
       "etisal for advanced industries                                  6\n",
       "Deloitte                                                        6\n",
       "_VOIS                                                           6\n",
       "Sutherland                                                      6\n",
       "Lecico Egypt                                                    6\n",
       "myGwork                                                         6\n",
       "Coca-Cola HBC                                                   5\n",
       "Midea Group                                                     5\n",
       "Misr Elkheir Foundation                                         5\n",
       "Talaat Moustafa Group                                           5\n",
       "Name: count, dtype: int64"
      ]
     },
     "execution_count": 59,
     "metadata": {},
     "output_type": "execute_result"
    }
   ],
   "source": [
    "data['Company name'].value_counts()[:20]"
   ]
  },
  {
   "cell_type": "code",
   "execution_count": 60,
   "id": "8dcc41b4-952d-4d21-bb91-75b766ea2bf7",
   "metadata": {},
   "outputs": [
    {
     "data": {
      "image/png": "[encoded data removed]",
      "text/plain": [
       "<Figure size 1000x500 with 1 Axes>"
      ]
     },
     "metadata": {},
     "output_type": "display_data"
    }
   ],
   "source": [
    "plt.figure(figsize = (10,5))\n",
    "graph = sns.countplot(x = 'Job type', data = data, order = data['Job type'].value_counts().index, palette = 'RdBu')\n",
    "\n",
    "for container in graph.containers:\n",
    "    graph.bar_label(container)\n",
    "\n",
    "plt.show()"
   ]
  },
  {
   "cell_type": "code",
   "execution_count": 61,
   "id": "260fc68d-baf5-4203-985a-8c49df2c9cc2",
   "metadata": {},
   "outputs": [
    {
     "data": {
      "image/png": "[encoded data removed]",
      "text/plain": [
       "<Figure size 1000x600 with 1 Axes>"
      ]
     },
     "metadata": {},
     "output_type": "display_data"
    }
   ],
   "source": [
    "plt.figure(figsize = (10,6))\n",
    "graph = sns.countplot(y = \"Job title\", data = data, order = data[\"Job title\"].value_counts().iloc[:20].index, palette = \"RdBu\")\n",
    "plt.xlabel('Number of Times the Job Was Requested')\n",
    "\n",
    "for container in graph.containers:\n",
    "    graph.bar_label(container)\n",
    "    \n",
    "plt.show() "
   ]
  },
  {
   "cell_type": "code",
   "execution_count": 62,
   "id": "1e984515-0f0d-4648-97e6-5b74b9078c1b",
   "metadata": {},
   "outputs": [
    {
     "data": {
      "image/png": "[encoded data removed]",
      "text/plain": [
       "<Figure size 1000x500 with 1 Axes>"
      ]
     },
     "metadata": {},
     "output_type": "display_data"
    }
   ],
   "source": [
    "plt.figure(figsize = (10,5))\n",
    "graph = sns.countplot(y = 'Location', data = data, order = data['Location'].value_counts().iloc[:20].index, palette = 'RdBu')\n",
    "plt.xlabel(\"Most Frequent Cities\")\n",
    "\n",
    "for container in graph.containers:\n",
    "    graph.bar_label(container)\n",
    "\n",
    "plt.show()"
   ]
  },
  {
   "cell_type": "code",
   "execution_count": 63,
   "id": "8d59ccec-3051-4cb6-ba46-cc386bdeff22",
   "metadata": {},
   "outputs": [
    {
     "data": {
      "image/png": "[encoded data removed]",
      "text/plain": [
       "<Figure size 1000x500 with 1 Axes>"
      ]
     },
     "metadata": {},
     "output_type": "display_data"
    }
   ],
   "source": [
    "plt.figure(figsize = (10,5))\n",
    "graph = sns.countplot(y = 'Skills', data = data, order = data['Skills'].value_counts().iloc[:10].index, palette = 'RdBu')\n",
    "\n",
    "for container in graph.containers:\n",
    "    graph.bar_label(container)\n",
    "\n",
    "plt.show()"
   ]
  },
  {
   "cell_type": "code",
   "execution_count": 64,
   "id": "99fb7abe-738e-4a5f-abbc-a7a3714835b5",
   "metadata": {},
   "outputs": [
    {
     "data": {
      "image/png": "[encoded data removed]",
      "text/plain": [
       "<Figure size 1000x500 with 1 Axes>"
      ]
     },
     "metadata": {},
     "output_type": "display_data"
    }
   ],
   "source": [
    "plt.figure(figsize = (10,5))\n",
    "graph = sns.countplot(x = 'Exp level', data = data, order = data['Exp level'].value_counts().iloc[:20].index, palette = 'RdBu')\n",
    "\n",
    "for container in graph.containers:\n",
    "    graph.bar_label(container)\n",
    "\n",
    "plt.show()"
   ]
  },
  {
   "cell_type": "code",
   "execution_count": 65,
   "id": "52e5e2c1-3a97-496e-a95d-526889b018a2",
   "metadata": {},
   "outputs": [
    {
     "data": {
      "image/png": "[encoded data removed]",
      "text/plain": [
       "<Figure size 1000x500 with 1 Axes>"
      ]
     },
     "metadata": {},
     "output_type": "display_data"
    }
   ],
   "source": [
    "plt.figure(figsize = (10,5))\n",
    "graph = sns.countplot(y = 'Company name', data = data, order = data['Company name'].value_counts().iloc[:10].index, palette = 'RdBu')\n",
    "\n",
    "for container in graph.containers:\n",
    "    graph.bar_label(container)\n",
    "\n",
    "plt.show()"
   ]
  },
  {
   "cell_type": "code",
   "execution_count": 66,
   "id": "2f2037ab-59c4-4378-8ed4-34dc88c3e229",
   "metadata": {},
   "outputs": [
    {
     "data": {
      "text/html": [
       "<div>\n",
       "<style scoped>\n",
       "    .dataframe tbody tr th:only-of-type {\n",
       "        vertical-align: middle;\n",
       "    }\n",
       "\n",
       "    .dataframe tbody tr th {\n",
       "        vertical-align: top;\n",
       "    }\n",
       "\n",
       "    .dataframe thead th {\n",
       "        text-align: right;\n",
       "    }\n",
       "</style>\n",
       "<table border=\"1\" class=\"dataframe\">\n",
       "  <thead>\n",
       "    <tr style=\"text-align: right;\">\n",
       "      <th></th>\n",
       "      <th>Job title</th>\n",
       "      <th>Company name</th>\n",
       "      <th>Location</th>\n",
       "      <th>Job type</th>\n",
       "      <th>Exp level</th>\n",
       "      <th>Exp years</th>\n",
       "      <th>Skills</th>\n",
       "    </tr>\n",
       "  </thead>\n",
       "  <tbody>\n",
       "    <tr>\n",
       "      <th>count</th>\n",
       "      <td>1618</td>\n",
       "      <td>1618</td>\n",
       "      <td>1618</td>\n",
       "      <td>1618</td>\n",
       "      <td>1618</td>\n",
       "      <td>1618</td>\n",
       "      <td>1618</td>\n",
       "    </tr>\n",
       "    <tr>\n",
       "      <th>unique</th>\n",
       "      <td>1015</td>\n",
       "      <td>888</td>\n",
       "      <td>85</td>\n",
       "      <td>4</td>\n",
       "      <td>6</td>\n",
       "      <td>98</td>\n",
       "      <td>1457</td>\n",
       "    </tr>\n",
       "    <tr>\n",
       "      <th>top</th>\n",
       "      <td>Accountant</td>\n",
       "      <td>Confidential</td>\n",
       "      <td>Cairo</td>\n",
       "      <td>Full Time</td>\n",
       "      <td>Experienced</td>\n",
       "      <td>0</td>\n",
       "      <td>Administration,Operations ,Management,Finance,...</td>\n",
       "    </tr>\n",
       "    <tr>\n",
       "      <th>freq</th>\n",
       "      <td>63</td>\n",
       "      <td>201</td>\n",
       "      <td>517</td>\n",
       "      <td>1598</td>\n",
       "      <td>847</td>\n",
       "      <td>404</td>\n",
       "      <td>14</td>\n",
       "    </tr>\n",
       "  </tbody>\n",
       "</table>\n",
       "</div>"
      ],
      "text/plain": [
       "         Job title  Company name Location   Job type    Exp level Exp years  \\\n",
       "count         1618          1618     1618       1618         1618      1618   \n",
       "unique        1015           888       85          4            6        98   \n",
       "top     Accountant  Confidential    Cairo  Full Time  Experienced         0   \n",
       "freq            63           201      517       1598          847       404   \n",
       "\n",
       "                                                   Skills  \n",
       "count                                                1618  \n",
       "unique                                               1457  \n",
       "top     Administration,Operations ,Management,Finance,...  \n",
       "freq                                                   14  "
      ]
     },
     "execution_count": 66,
     "metadata": {},
     "output_type": "execute_result"
    }
   ],
   "source": [
    "data.describe(include = object)"
   ]
  },
  {
   "cell_type": "code",
   "execution_count": 67,
   "id": "6c0e41f1-3f81-4bee-80b4-ad04ed4211d0",
   "metadata": {},
   "outputs": [],
   "source": [
    "def counting_skills():\n",
    "    # get list of all skills\n",
    "    skill_list = list(data[\"Skills\"])\n",
    "    \n",
    "    # join skills and union it\n",
    "    skill =  ','.join(skill_list).split(',')\n",
    "    \n",
    "    # create skill count dictionary\n",
    "    skill_count = collections.Counter(skill)\n",
    "    \n",
    "    return skill_count"
   ]
  },
  {
   "cell_type": "code",
   "execution_count": 99,
   "id": "f9e96413-d163-4bd2-8e82-e6ce35e34a4d",
   "metadata": {},
   "outputs": [
    {
     "data": {
      "text/html": [
       "<div>\n",
       "<style scoped>\n",
       "    .dataframe tbody tr th:only-of-type {\n",
       "        vertical-align: middle;\n",
       "    }\n",
       "\n",
       "    .dataframe tbody tr th {\n",
       "        vertical-align: top;\n",
       "    }\n",
       "\n",
       "    .dataframe thead th {\n",
       "        text-align: right;\n",
       "    }\n",
       "</style>\n",
       "<table border=\"1\" class=\"dataframe\">\n",
       "  <thead>\n",
       "    <tr style=\"text-align: right;\">\n",
       "      <th></th>\n",
       "      <th>Skill</th>\n",
       "      <th>Count</th>\n",
       "    </tr>\n",
       "  </thead>\n",
       "  <tbody>\n",
       "  </tbody>\n",
       "</table>\n",
       "</div>"
      ],
      "text/plain": [
       "Empty DataFrame\n",
       "Columns: [Skill, Count]\n",
       "Index: []"
      ]
     },
     "execution_count": 99,
     "metadata": {},
     "output_type": "execute_result"
    }
   ],
   "source": [
    "skills = pd.DataFrame(columns = [\"Skill\", \"Count\"])\n",
    "skills"
   ]
  },
  {
   "cell_type": "code",
   "execution_count": 102,
   "id": "24509d6d-984a-4d2b-8324-ab452f98bdf1",
   "metadata": {},
   "outputs": [],
   "source": [
    "for key,value in counting_skills().items():\n",
    "     skills.loc[len(skills.index)] = [key, value] "
   ]
  },
  {
   "cell_type": "code",
   "execution_count": 103,
   "id": "cdccc46e-4be7-4481-8a1a-2551b8e8216b",
   "metadata": {},
   "outputs": [
    {
     "data": {
      "text/html": [
       "<div>\n",
       "<style scoped>\n",
       "    .dataframe tbody tr th:only-of-type {\n",
       "        vertical-align: middle;\n",
       "    }\n",
       "\n",
       "    .dataframe tbody tr th {\n",
       "        vertical-align: top;\n",
       "    }\n",
       "\n",
       "    .dataframe thead th {\n",
       "        text-align: right;\n",
       "    }\n",
       "</style>\n",
       "<table border=\"1\" class=\"dataframe\">\n",
       "  <thead>\n",
       "    <tr style=\"text-align: right;\">\n",
       "      <th></th>\n",
       "      <th>Skill</th>\n",
       "      <th>Count</th>\n",
       "    </tr>\n",
       "  </thead>\n",
       "  <tbody>\n",
       "    <tr>\n",
       "      <th>0</th>\n",
       "      <td>Analyst</td>\n",
       "      <td>235</td>\n",
       "    </tr>\n",
       "    <tr>\n",
       "      <th>1</th>\n",
       "      <td>Research</td>\n",
       "      <td>259</td>\n",
       "    </tr>\n",
       "    <tr>\n",
       "      <th>2</th>\n",
       "      <td>Analysis</td>\n",
       "      <td>184</td>\n",
       "    </tr>\n",
       "    <tr>\n",
       "      <th>3</th>\n",
       "      <td>Business Analysis</td>\n",
       "      <td>67</td>\n",
       "    </tr>\n",
       "    <tr>\n",
       "      <th>4</th>\n",
       "      <td>Communication skills</td>\n",
       "      <td>93</td>\n",
       "    </tr>\n",
       "    <tr>\n",
       "      <th>5</th>\n",
       "      <td>Software Development</td>\n",
       "      <td>257</td>\n",
       "    </tr>\n",
       "    <tr>\n",
       "      <th>6</th>\n",
       "      <td>SQL</td>\n",
       "      <td>46</td>\n",
       "    </tr>\n",
       "    <tr>\n",
       "      <th>7</th>\n",
       "      <td>systems analysis</td>\n",
       "      <td>3</td>\n",
       "    </tr>\n",
       "    <tr>\n",
       "      <th>8</th>\n",
       "      <td>Accounting</td>\n",
       "      <td>487</td>\n",
       "    </tr>\n",
       "    <tr>\n",
       "      <th>9</th>\n",
       "      <td>Finance</td>\n",
       "      <td>1079</td>\n",
       "    </tr>\n",
       "    <tr>\n",
       "      <th>10</th>\n",
       "      <td>Banking</td>\n",
       "      <td>210</td>\n",
       "    </tr>\n",
       "    <tr>\n",
       "      <th>11</th>\n",
       "      <td>Manufacturing</td>\n",
       "      <td>67</td>\n",
       "    </tr>\n",
       "    <tr>\n",
       "      <th>12</th>\n",
       "      <td>Production</td>\n",
       "      <td>87</td>\n",
       "    </tr>\n",
       "    <tr>\n",
       "      <th>13</th>\n",
       "      <td>analytical</td>\n",
       "      <td>44</td>\n",
       "    </tr>\n",
       "    <tr>\n",
       "      <th>14</th>\n",
       "      <td>Budgeting</td>\n",
       "      <td>17</td>\n",
       "    </tr>\n",
       "    <tr>\n",
       "      <th>15</th>\n",
       "      <td>Financial Analysis</td>\n",
       "      <td>544</td>\n",
       "    </tr>\n",
       "    <tr>\n",
       "      <th>16</th>\n",
       "      <td>Operations</td>\n",
       "      <td>214</td>\n",
       "    </tr>\n",
       "    <tr>\n",
       "      <th>17</th>\n",
       "      <td>Management</td>\n",
       "      <td>312</td>\n",
       "    </tr>\n",
       "    <tr>\n",
       "      <th>18</th>\n",
       "      <td>Accounting</td>\n",
       "      <td>619</td>\n",
       "    </tr>\n",
       "    <tr>\n",
       "      <th>19</th>\n",
       "      <td>Data Analysis</td>\n",
       "      <td>43</td>\n",
       "    </tr>\n",
       "  </tbody>\n",
       "</table>\n",
       "</div>"
      ],
      "text/plain": [
       "                   Skill  Count\n",
       "0               Analyst     235\n",
       "1               Research    259\n",
       "2               Analysis    184\n",
       "3      Business Analysis     67\n",
       "4   Communication skills     93\n",
       "5   Software Development    257\n",
       "6                    SQL     46\n",
       "7       systems analysis      3\n",
       "8            Accounting     487\n",
       "9                Finance   1079\n",
       "10               Banking    210\n",
       "11        Manufacturing      67\n",
       "12            Production     87\n",
       "13            analytical     44\n",
       "14             Budgeting     17\n",
       "15    Financial Analysis    544\n",
       "16           Operations     214\n",
       "17            Management    312\n",
       "18            Accounting    619\n",
       "19         Data Analysis     43"
      ]
     },
     "execution_count": 103,
     "metadata": {},
     "output_type": "execute_result"
    }
   ],
   "source": [
    "skills.head(20)"
   ]
  },
  {
   "cell_type": "code",
   "execution_count": null,
   "id": "0079fa07-414a-4ea6-a240-fc50ea4e8ca2",
   "metadata": {},
   "outputs": [],
   "source": [
    "data.to_csv(\"AbdulData.csv\")"
   ]
  },
  {
   "cell_type": "code",
   "execution_count": null,
   "id": "e90ab50f-c30b-4d7e-92b1-62c2528f6e7d",
   "metadata": {},
   "outputs": [],
   "source": []
  }
 ],
 "metadata": {
  "kernelspec": {
   "display_name": "Python 3 (ipykernel)",
   "language": "python",
   "name": "python3"
  },
  "language_info": {
   "codemirror_mode": {
    "name": "ipython",
    "version": 3
   },
   "file_extension": ".py",
   "mimetype": "text/x-python",
   "name": "python",
   "nbconvert_exporter": "python",
   "pygments_lexer": "ipython3",
   "version": "3.11.7"
  }
 },
 "nbformat": 4,
 "nbformat_minor": 5
}
